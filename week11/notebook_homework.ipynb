{
 "cells": [
  {
   "cell_type": "code",
   "execution_count": 1,
   "id": "66a0d09a",
   "metadata": {},
   "outputs": [],
   "source": [
    "import tensorflow as tf\n",
    "from tensorflow import keras"
   ]
  },
  {
   "cell_type": "markdown",
   "id": "3ac5d649",
   "metadata": {},
   "source": [
    "### Creating the model"
   ]
  },
  {
   "cell_type": "code",
   "execution_count": 2,
   "id": "1902886d",
   "metadata": {},
   "outputs": [],
   "source": [
    "from keras.models import Sequential\n",
    "from keras.layers import Conv2D\n",
    "from keras.layers import MaxPooling2D\n",
    "from keras.layers import Flatten\n",
    "from keras.layers import Dense"
   ]
  },
  {
   "cell_type": "code",
   "execution_count": 3,
   "id": "8e6afec3",
   "metadata": {},
   "outputs": [],
   "source": [
    "input_shape = (150, 150, 3)\n",
    "inputs = keras.Input(shape=input_shape)"
   ]
  },
  {
   "cell_type": "code",
   "execution_count": 4,
   "id": "e7008d1b",
   "metadata": {},
   "outputs": [],
   "source": [
    "conv_layer = Conv2D(filters=32, kernel_size=(3, 3), activation='relu')(inputs)"
   ]
  },
  {
   "cell_type": "code",
   "execution_count": 5,
   "id": "d427620b",
   "metadata": {},
   "outputs": [],
   "source": [
    "pool_size = (2, 2)\n",
    "pool_layer = MaxPooling2D(pool_size=pool_size)(conv_layer)"
   ]
  },
  {
   "cell_type": "code",
   "execution_count": 6,
   "id": "aa24d7fa",
   "metadata": {},
   "outputs": [],
   "source": [
    "flatten_layer = Flatten()(pool_layer)"
   ]
  },
  {
   "cell_type": "code",
   "execution_count": 7,
   "id": "ebec7e40",
   "metadata": {},
   "outputs": [],
   "source": [
    "dense_layer1 = Dense(64, activation=\"relu\")(flatten_layer)\n",
    "outputs = Dense(1, activation=\"sigmoid\")(dense_layer1)"
   ]
  },
  {
   "cell_type": "code",
   "execution_count": 8,
   "id": "d6c12db0",
   "metadata": {},
   "outputs": [],
   "source": [
    "model = keras.Model(inputs, outputs)"
   ]
  },
  {
   "cell_type": "markdown",
   "id": "c7031b1e",
   "metadata": {},
   "source": [
    "#### Question 1"
   ]
  },
  {
   "cell_type": "markdown",
   "id": "7b58988c",
   "metadata": {},
   "source": [
    "BinaryCrossentropy"
   ]
  },
  {
   "cell_type": "code",
   "execution_count": 9,
   "id": "20dc951a",
   "metadata": {},
   "outputs": [],
   "source": [
    "from keras.losses import BinaryCrossentropy"
   ]
  },
  {
   "cell_type": "code",
   "execution_count": 10,
   "id": "b0f797e1",
   "metadata": {},
   "outputs": [],
   "source": [
    "model.compile(\n",
    "    optimizer=keras.optimizers.SGD(learning_rate=0.002, momentum=0.8),\n",
    "    loss=BinaryCrossentropy(from_logits=False),\n",
    "    metrics=[\"accuracy\"]\n",
    ")"
   ]
  },
  {
   "cell_type": "markdown",
   "id": "f9f0706f",
   "metadata": {},
   "source": [
    "#### Question 2"
   ]
  },
  {
   "cell_type": "code",
   "execution_count": 11,
   "id": "ba5ea9a7",
   "metadata": {},
   "outputs": [
    {
     "name": "stdout",
     "output_type": "stream",
     "text": [
      "Model: \"model\"\n",
      "_________________________________________________________________\n",
      " Layer (type)                Output Shape              Param #   \n",
      "=================================================================\n",
      " input_1 (InputLayer)        [(None, 150, 150, 3)]     0         \n",
      "                                                                 \n",
      " conv2d (Conv2D)             (None, 148, 148, 32)      896       \n",
      "                                                                 \n",
      " max_pooling2d (MaxPooling2D  (None, 74, 74, 32)       0         \n",
      " )                                                               \n",
      "                                                                 \n",
      " flatten (Flatten)           (None, 175232)            0         \n",
      "                                                                 \n",
      " dense (Dense)               (None, 64)                11214912  \n",
      "                                                                 \n",
      " dense_1 (Dense)             (None, 1)                 65        \n",
      "                                                                 \n",
      "=================================================================\n",
      "Total params: 11,215,873\n",
      "Trainable params: 11,215,873\n",
      "Non-trainable params: 0\n",
      "_________________________________________________________________\n"
     ]
    }
   ],
   "source": [
    "model.summary()"
   ]
  },
  {
   "cell_type": "code",
   "execution_count": 12,
   "id": "d52835b7",
   "metadata": {},
   "outputs": [],
   "source": [
    "from keras.preprocessing.image import ImageDataGenerator"
   ]
  },
  {
   "cell_type": "code",
   "execution_count": 13,
   "id": "2493cac4",
   "metadata": {},
   "outputs": [
    {
     "name": "stdout",
     "output_type": "stream",
     "text": [
      "Found 20000 images belonging to 2 classes.\n",
      "Found 5000 images belonging to 2 classes.\n"
     ]
    }
   ],
   "source": [
    "train_gen = ImageDataGenerator(rescale=1./255)\n",
    "train_ds = train_gen.flow_from_directory(\n",
    "    \"./train\",\n",
    "    target_size=(150, 150),\n",
    "    batch_size=20,\n",
    "    shuffle=True,\n",
    "    class_mode='binary'\n",
    ")\n",
    "\n",
    "val_gen = ImageDataGenerator(rescale=1./255)\n",
    "val_ds = val_gen.flow_from_directory(\n",
    "    \"./validation\",\n",
    "    target_size=(150, 150),\n",
    "    batch_size=20,\n",
    "    shuffle=True,\n",
    "    class_mode='binary'\n",
    ")"
   ]
  },
  {
   "cell_type": "code",
   "execution_count": 14,
   "id": "2fe0d64d",
   "metadata": {},
   "outputs": [
    {
     "name": "stdout",
     "output_type": "stream",
     "text": [
      "Epoch 1/10\n",
      "100/100 [==============================] - 14s 139ms/step - loss: 0.6975 - accuracy: 0.5320 - val_loss: 0.6857 - val_accuracy: 0.5330\n",
      "Epoch 2/10\n",
      "100/100 [==============================] - 15s 149ms/step - loss: 0.6879 - accuracy: 0.5385 - val_loss: 0.6815 - val_accuracy: 0.5480\n",
      "Epoch 3/10\n",
      "100/100 [==============================] - 15s 147ms/step - loss: 0.6844 - accuracy: 0.5415 - val_loss: 0.6929 - val_accuracy: 0.5130\n",
      "Epoch 4/10\n",
      "100/100 [==============================] - 14s 144ms/step - loss: 0.6814 - accuracy: 0.5650 - val_loss: 0.6770 - val_accuracy: 0.6000\n",
      "Epoch 5/10\n",
      "100/100 [==============================] - 15s 148ms/step - loss: 0.6658 - accuracy: 0.5885 - val_loss: 0.6720 - val_accuracy: 0.5800\n",
      "Epoch 6/10\n",
      "100/100 [==============================] - 15s 153ms/step - loss: 0.6731 - accuracy: 0.5990 - val_loss: 0.6662 - val_accuracy: 0.5900\n",
      "Epoch 7/10\n",
      "100/100 [==============================] - 16s 159ms/step - loss: 0.6668 - accuracy: 0.5945 - val_loss: 0.6683 - val_accuracy: 0.6000\n",
      "Epoch 8/10\n",
      "100/100 [==============================] - 16s 157ms/step - loss: 0.6654 - accuracy: 0.6010 - val_loss: 0.6706 - val_accuracy: 0.5770\n",
      "Epoch 9/10\n",
      "100/100 [==============================] - 16s 162ms/step - loss: 0.6618 - accuracy: 0.5980 - val_loss: 0.6484 - val_accuracy: 0.6230\n",
      "Epoch 10/10\n",
      "100/100 [==============================] - 16s 162ms/step - loss: 0.6460 - accuracy: 0.6330 - val_loss: 0.6495 - val_accuracy: 0.6160\n"
     ]
    },
    {
     "data": {
      "text/plain": [
       "{'loss': [0.6975035667419434,\n",
       "  0.687885582447052,\n",
       "  0.6844290494918823,\n",
       "  0.6813533902168274,\n",
       "  0.6657937169075012,\n",
       "  0.6731157302856445,\n",
       "  0.6668072938919067,\n",
       "  0.6654340028762817,\n",
       "  0.6617560982704163,\n",
       "  0.6459524035453796],\n",
       " 'accuracy': [0.5320000052452087,\n",
       "  0.5385000109672546,\n",
       "  0.5414999723434448,\n",
       "  0.5649999976158142,\n",
       "  0.5885000228881836,\n",
       "  0.5989999771118164,\n",
       "  0.5945000052452087,\n",
       "  0.6010000109672546,\n",
       "  0.5979999899864197,\n",
       "  0.6330000162124634],\n",
       " 'val_loss': [0.6856961250305176,\n",
       "  0.6815395951271057,\n",
       "  0.6929354071617126,\n",
       "  0.6770449876785278,\n",
       "  0.6720036864280701,\n",
       "  0.6662291288375854,\n",
       "  0.6682980060577393,\n",
       "  0.6705685257911682,\n",
       "  0.6483723521232605,\n",
       "  0.6495100259780884],\n",
       " 'val_accuracy': [0.5329999923706055,\n",
       "  0.5479999780654907,\n",
       "  0.5130000114440918,\n",
       "  0.6000000238418579,\n",
       "  0.5799999833106995,\n",
       "  0.5899999737739563,\n",
       "  0.6000000238418579,\n",
       "  0.5770000219345093,\n",
       "  0.6230000257492065,\n",
       "  0.6159999966621399]}"
      ]
     },
     "execution_count": 14,
     "metadata": {},
     "output_type": "execute_result"
    }
   ],
   "source": [
    "history = model.fit(\n",
    "    train_ds,\n",
    "    steps_per_epoch=100,\n",
    "    epochs=10,\n",
    "    validation_data=val_ds,\n",
    "    validation_steps=50\n",
    ")\n",
    "history.history"
   ]
  },
  {
   "cell_type": "markdown",
   "id": "1c9334d9",
   "metadata": {},
   "source": [
    "#### Question 3"
   ]
  },
  {
   "cell_type": "code",
   "execution_count": 15,
   "id": "b651bfe5",
   "metadata": {},
   "outputs": [],
   "source": [
    "import statistics"
   ]
  },
  {
   "cell_type": "code",
   "execution_count": 16,
   "id": "66820c64",
   "metadata": {},
   "outputs": [
    {
     "data": {
      "text/plain": [
       "0.5791000008583069"
      ]
     },
     "execution_count": 16,
     "metadata": {},
     "output_type": "execute_result"
    }
   ],
   "source": [
    "statistics.mean(history.history['accuracy'])"
   ]
  },
  {
   "cell_type": "markdown",
   "id": "e64fd2f8",
   "metadata": {},
   "source": [
    "#### Question 4"
   ]
  },
  {
   "cell_type": "code",
   "execution_count": 17,
   "id": "a3ef562a",
   "metadata": {},
   "outputs": [
    {
     "data": {
      "text/plain": [
       "0.015010896724238278"
      ]
     },
     "execution_count": 17,
     "metadata": {},
     "output_type": "execute_result"
    }
   ],
   "source": [
    "statistics.stdev(history.history['loss'])"
   ]
  },
  {
   "cell_type": "markdown",
   "id": "0f65873d",
   "metadata": {},
   "source": [
    "### Data Augmentation"
   ]
  },
  {
   "cell_type": "code",
   "execution_count": 18,
   "id": "c6f57e5b",
   "metadata": {},
   "outputs": [
    {
     "name": "stdout",
     "output_type": "stream",
     "text": [
      "Found 20000 images belonging to 2 classes.\n"
     ]
    }
   ],
   "source": [
    "train_gen = ImageDataGenerator(\n",
    "    rescale=1./255,\n",
    "    rotation_range=40,\n",
    "    width_shift_range=0.2,\n",
    "    height_shift_range=0.2,\n",
    "    shear_range=0.2,\n",
    "    zoom_range=0.2,\n",
    "    horizontal_flip=True,\n",
    "    fill_mode='nearest'\n",
    ")\n",
    "train_ds = train_gen.flow_from_directory(\n",
    "    \"./train\",\n",
    "    target_size=(150, 150),\n",
    "    batch_size=20,\n",
    "    shuffle=True,\n",
    "    class_mode='binary'\n",
    ")\n"
   ]
  },
  {
   "cell_type": "code",
   "execution_count": 19,
   "id": "613c5a11",
   "metadata": {},
   "outputs": [
    {
     "name": "stdout",
     "output_type": "stream",
     "text": [
      "Epoch 1/10\n",
      "100/100 [==============================] - 26s 264ms/step - loss: 0.6750 - accuracy: 0.5680 - val_loss: 0.6665 - val_accuracy: 0.5810\n",
      "Epoch 2/10\n",
      "100/100 [==============================] - 25s 254ms/step - loss: 0.6761 - accuracy: 0.5645 - val_loss: 0.6524 - val_accuracy: 0.6050\n",
      "Epoch 3/10\n",
      "100/100 [==============================] - 27s 267ms/step - loss: 0.6726 - accuracy: 0.5765 - val_loss: 0.6563 - val_accuracy: 0.6240\n",
      "Epoch 4/10\n",
      "100/100 [==============================] - 26s 262ms/step - loss: 0.6696 - accuracy: 0.5835 - val_loss: 0.6494 - val_accuracy: 0.6280\n",
      "Epoch 5/10\n",
      "100/100 [==============================] - 26s 259ms/step - loss: 0.6754 - accuracy: 0.5735 - val_loss: 0.6535 - val_accuracy: 0.6340\n",
      "Epoch 6/10\n",
      "100/100 [==============================] - 28s 277ms/step - loss: 0.6568 - accuracy: 0.6005 - val_loss: 0.6413 - val_accuracy: 0.6280\n",
      "Epoch 7/10\n",
      "100/100 [==============================] - 27s 267ms/step - loss: 0.6675 - accuracy: 0.5820 - val_loss: 0.6430 - val_accuracy: 0.6260\n",
      "Epoch 8/10\n",
      "100/100 [==============================] - 27s 274ms/step - loss: 0.6630 - accuracy: 0.5985 - val_loss: 0.6295 - val_accuracy: 0.6530\n",
      "Epoch 9/10\n",
      "100/100 [==============================] - 26s 265ms/step - loss: 0.6658 - accuracy: 0.5900 - val_loss: 0.6449 - val_accuracy: 0.6210\n",
      "Epoch 10/10\n",
      "100/100 [==============================] - 26s 261ms/step - loss: 0.6647 - accuracy: 0.5865 - val_loss: 0.6339 - val_accuracy: 0.6380\n"
     ]
    },
    {
     "data": {
      "text/plain": [
       "{'loss': [0.6749874353408813,\n",
       "  0.6760843992233276,\n",
       "  0.6726104617118835,\n",
       "  0.6695953607559204,\n",
       "  0.6753665804862976,\n",
       "  0.6568015813827515,\n",
       "  0.6675153374671936,\n",
       "  0.6630427241325378,\n",
       "  0.6657806038856506,\n",
       "  0.6646631956100464],\n",
       " 'accuracy': [0.5680000185966492,\n",
       "  0.5644999742507935,\n",
       "  0.5764999985694885,\n",
       "  0.5835000276565552,\n",
       "  0.5734999775886536,\n",
       "  0.6004999876022339,\n",
       "  0.5820000171661377,\n",
       "  0.5985000133514404,\n",
       "  0.5899999737739563,\n",
       "  0.5864999890327454],\n",
       " 'val_loss': [0.6665012836456299,\n",
       "  0.6523531675338745,\n",
       "  0.6562963128089905,\n",
       "  0.6494044661521912,\n",
       "  0.6534850001335144,\n",
       "  0.6412724852561951,\n",
       "  0.6429857611656189,\n",
       "  0.6295411586761475,\n",
       "  0.6449108719825745,\n",
       "  0.6338860392570496],\n",
       " 'val_accuracy': [0.5809999704360962,\n",
       "  0.6050000190734863,\n",
       "  0.6240000128746033,\n",
       "  0.628000020980835,\n",
       "  0.6340000033378601,\n",
       "  0.628000020980835,\n",
       "  0.6259999871253967,\n",
       "  0.652999997138977,\n",
       "  0.6209999918937683,\n",
       "  0.6380000114440918]}"
      ]
     },
     "execution_count": 19,
     "metadata": {},
     "output_type": "execute_result"
    }
   ],
   "source": [
    "history2 = model.fit(\n",
    "    train_ds,\n",
    "    steps_per_epoch=100,\n",
    "    epochs=10,\n",
    "    validation_data=val_ds,\n",
    "    validation_steps=50\n",
    ")\n",
    "history2.history"
   ]
  },
  {
   "cell_type": "markdown",
   "id": "58c596cb",
   "metadata": {},
   "source": [
    "#### Question 5"
   ]
  },
  {
   "cell_type": "code",
   "execution_count": 20,
   "id": "2235f890",
   "metadata": {},
   "outputs": [
    {
     "data": {
      "text/plain": [
       "0.6470636546611785"
      ]
     },
     "execution_count": 20,
     "metadata": {},
     "output_type": "execute_result"
    }
   ],
   "source": [
    "statistics.mean(history2.history['val_loss'])"
   ]
  },
  {
   "cell_type": "markdown",
   "id": "a5a1a52a",
   "metadata": {},
   "source": [
    "#### Question 6"
   ]
  },
  {
   "cell_type": "code",
   "execution_count": 21,
   "id": "b0d9d5a5",
   "metadata": {},
   "outputs": [
    {
     "data": {
      "text/plain": [
       "0.6332000017166137"
      ]
     },
     "execution_count": 21,
     "metadata": {},
     "output_type": "execute_result"
    }
   ],
   "source": [
    "statistics.mean(history2.history['val_accuracy'][5:10])"
   ]
  }
 ],
 "metadata": {
  "kernelspec": {
   "display_name": "Python 3",
   "language": "python",
   "name": "python3"
  },
  "language_info": {
   "codemirror_mode": {
    "name": "ipython",
    "version": 3
   },
   "file_extension": ".py",
   "mimetype": "text/x-python",
   "name": "python",
   "nbconvert_exporter": "python",
   "pygments_lexer": "ipython3",
   "version": "3.8.8"
  }
 },
 "nbformat": 4,
 "nbformat_minor": 5
}
