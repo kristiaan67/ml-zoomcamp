{
 "cells": [
  {
   "cell_type": "markdown",
   "id": "f679e897",
   "metadata": {},
   "source": [
    "## Synopsis"
   ]
  },
  {
   "cell_type": "markdown",
   "id": "808d99ff",
   "metadata": {},
   "source": [
    "The goal of this project is to analayze which factors contribute to employee attrition and to develop a model that predicts whether an employee is a possible candidate for a 'break down'.\n",
    "\n",
    "The data set can be downloaded from kaggle: https://www.kaggle.com/pavansubhasht/ibm-hr-analytics-attrition-dataset"
   ]
  },
  {
   "cell_type": "code",
   "execution_count": 1,
   "id": "445e1161",
   "metadata": {},
   "outputs": [],
   "source": [
    "import pandas as pd\n",
    "import numpy as np\n",
    "import seaborn as sns\n",
    "from matplotlib import pyplot as plt\n",
    "\n",
    "%matplotlib inline"
   ]
  },
  {
   "cell_type": "markdown",
   "id": "be38ece1",
   "metadata": {},
   "source": [
    "## Load Data Set"
   ]
  },
  {
   "cell_type": "code",
   "execution_count": 2,
   "id": "39bff50a",
   "metadata": {},
   "outputs": [],
   "source": [
    "data_file = 'WA_Fn-UseC_-HR-Employee-Attrition.csv'\n",
    "df = pd.read_csv(data_file)\n",
    "df.columns = df.columns.str.lower()"
   ]
  },
  {
   "cell_type": "markdown",
   "id": "a42f6957",
   "metadata": {},
   "source": [
    "## Data Preparation"
   ]
  },
  {
   "cell_type": "markdown",
   "id": "a92efaa3",
   "metadata": {},
   "source": [
    "1. Remove the employee number from the model since unique for each employee and is not relevant for the ML model."
   ]
  },
  {
   "cell_type": "code",
   "execution_count": 3,
   "id": "836793d1",
   "metadata": {},
   "outputs": [],
   "source": [
    "del df['employeenumber']"
   ]
  },
  {
   "cell_type": "markdown",
   "id": "bdd5fe8a",
   "metadata": {},
   "source": [
    "2. *Zero Variance*: Check for features that have only 1 unique value."
   ]
  },
  {
   "cell_type": "code",
   "execution_count": 4,
   "id": "9c53cbbc",
   "metadata": {},
   "outputs": [
    {
     "data": {
      "text/plain": [
       "employeecount        1\n",
       "over18               1\n",
       "standardhours        1\n",
       "attrition            2\n",
       "gender               2\n",
       "overtime             2\n",
       "performancerating    2\n",
       "businesstravel       3\n",
       "department           3\n",
       "maritalstatus        3\n",
       "dtype: int64"
      ]
     },
     "execution_count": 4,
     "metadata": {},
     "output_type": "execute_result"
    }
   ],
   "source": [
    "df.nunique().nsmallest(10)"
   ]
  },
  {
   "cell_type": "markdown",
   "id": "983428ca",
   "metadata": {},
   "source": [
    "Remove employee count/over 18/ standard hours features since all rows have the same value. Those features are therefore not relevant for the ML model."
   ]
  },
  {
   "cell_type": "code",
   "execution_count": 5,
   "id": "6223922b",
   "metadata": {},
   "outputs": [],
   "source": [
    "del df['employeecount']\n",
    "del df['over18']\n",
    "del df['standardhours']"
   ]
  },
  {
   "cell_type": "markdown",
   "id": "93fde3ef",
   "metadata": {},
   "source": [
    "3. *Null Value Check*: Check for missing values."
   ]
  },
  {
   "cell_type": "code",
   "execution_count": 6,
   "id": "b849d82b",
   "metadata": {},
   "outputs": [
    {
     "data": {
      "text/plain": [
       "age                         0\n",
       "attrition                   0\n",
       "businesstravel              0\n",
       "dailyrate                   0\n",
       "department                  0\n",
       "distancefromhome            0\n",
       "education                   0\n",
       "educationfield              0\n",
       "environmentsatisfaction     0\n",
       "gender                      0\n",
       "hourlyrate                  0\n",
       "jobinvolvement              0\n",
       "joblevel                    0\n",
       "jobrole                     0\n",
       "jobsatisfaction             0\n",
       "maritalstatus               0\n",
       "monthlyincome               0\n",
       "monthlyrate                 0\n",
       "numcompaniesworked          0\n",
       "overtime                    0\n",
       "percentsalaryhike           0\n",
       "performancerating           0\n",
       "relationshipsatisfaction    0\n",
       "stockoptionlevel            0\n",
       "totalworkingyears           0\n",
       "trainingtimeslastyear       0\n",
       "worklifebalance             0\n",
       "yearsatcompany              0\n",
       "yearsincurrentrole          0\n",
       "yearssincelastpromotion     0\n",
       "yearswithcurrmanager        0\n",
       "dtype: int64"
      ]
     },
     "execution_count": 6,
     "metadata": {},
     "output_type": "execute_result"
    }
   ],
   "source": [
    "df.isnull().sum()"
   ]
  },
  {
   "cell_type": "markdown",
   "id": "6cb4fdd6",
   "metadata": {},
   "source": [
    "**We don’t have to handle missing values** in the dataset: all the values in all the columns are present."
   ]
  },
  {
   "cell_type": "markdown",
   "id": "5319be17",
   "metadata": {},
   "source": [
    "4. Map numerical values to labels for categorical features."
   ]
  },
  {
   "cell_type": "code",
   "execution_count": 7,
   "id": "1d55e0d2",
   "metadata": {},
   "outputs": [],
   "source": [
    "education_values = {\n",
    "    0: 'unk',\n",
    "    1: 'Below College',\n",
    "    2: 'College',\n",
    "    3: 'Bachelor',\n",
    "    4: 'Master',\n",
    "    5: 'Doctor'\n",
    "}\n",
    "df.education = df.education.map(education_values)\n",
    "\n",
    "\n",
    "environmentsatisfaction_values = {\n",
    "    0: 'unk',\n",
    "    1: 'low',\n",
    "    2: 'medium',\n",
    "    3: 'high',\n",
    "    4: 'very high'\n",
    "}\n",
    "df.environmentsatisfaction = df.environmentsatisfaction.map(environmentsatisfaction_values)\n",
    "\n",
    "\n",
    "jobinvolvement_values = {\n",
    "    0: 'unk',\n",
    "    1: 'low',\n",
    "    2: 'medium',\n",
    "    3: 'high',\n",
    "    4: 'very high'\n",
    "}\n",
    "df.jobinvolvement = df.jobinvolvement.map(jobinvolvement_values)\n",
    "\n",
    "\n",
    "jobsatisfaction_values = {\n",
    "    0: 'unk',\n",
    "    1: 'low',\n",
    "    2: 'medium',\n",
    "    3: 'high',\n",
    "    4: 'very high'\n",
    "}\n",
    "df.jobsatisfaction = df.jobsatisfaction.map(jobsatisfaction_values)\n",
    "\n",
    "\n",
    "performancerating_values = {\n",
    "    0: 'unk',\n",
    "    1: 'low',\n",
    "    2: 'good',\n",
    "    3: 'excellent',\n",
    "    4: 'outstanding'\n",
    "}\n",
    "df.performancerating = df.performancerating.map(performancerating_values)\n",
    "\n",
    "\n",
    "relationshipsatisfaction_values = {\n",
    "    0: 'unk',\n",
    "    1: 'low',\n",
    "    2: 'medium',\n",
    "    3: 'high',\n",
    "    4: 'very high'\n",
    "}\n",
    "df.relationshipsatisfaction = df.relationshipsatisfaction.map(relationshipsatisfaction_values)\n",
    "\n",
    "worklifebalance_values = {\n",
    "    0: 'unk',\n",
    "    1: 'bad',\n",
    "    2: 'good',\n",
    "    3: 'better',\n",
    "    4: 'best'\n",
    "}\n",
    "df.worklifebalance = df.worklifebalance.map(worklifebalance_values)"
   ]
  },
  {
   "cell_type": "markdown",
   "id": "85825ddf",
   "metadata": {},
   "source": [
    "5. Convert boolean values to 1 and 0:"
   ]
  },
  {
   "cell_type": "code",
   "execution_count": 8,
   "id": "6379db27",
   "metadata": {},
   "outputs": [],
   "source": [
    "df['attrition'] = (df.attrition == 'Yes').astype(int)\n",
    "df['overtime'] = (df.overtime == 'Yes').astype(int)"
   ]
  },
  {
   "cell_type": "markdown",
   "id": "756c4c7d",
   "metadata": {},
   "source": [
    "6. Create training, validation and test data sets:"
   ]
  },
  {
   "cell_type": "code",
   "execution_count": 9,
   "id": "72c4cc06",
   "metadata": {},
   "outputs": [],
   "source": [
    "from sklearn.model_selection import train_test_split\n",
    "\n",
    "df_full_train, df_test = train_test_split(df, test_size=0.2, random_state=1234)\n",
    "df_train, df_val = train_test_split(df_full_train, test_size=0.25, random_state=1234)\n",
    "\n",
    "y_full_train = df_full_train['attrition']\n",
    "y_train = df_train['attrition']\n",
    "y_val = df_val['attrition']\n",
    "y_test = df_test['attrition']"
   ]
  },
  {
   "cell_type": "code",
   "execution_count": 10,
   "id": "75ea5cc0",
   "metadata": {},
   "outputs": [
    {
     "data": {
      "text/html": [
       "<div>\n",
       "<style scoped>\n",
       "    .dataframe tbody tr th:only-of-type {\n",
       "        vertical-align: middle;\n",
       "    }\n",
       "\n",
       "    .dataframe tbody tr th {\n",
       "        vertical-align: top;\n",
       "    }\n",
       "\n",
       "    .dataframe thead th {\n",
       "        text-align: right;\n",
       "    }\n",
       "</style>\n",
       "<table border=\"1\" class=\"dataframe\">\n",
       "  <thead>\n",
       "    <tr style=\"text-align: right;\">\n",
       "      <th></th>\n",
       "      <th>630</th>\n",
       "      <th>1221</th>\n",
       "      <th>122</th>\n",
       "      <th>706</th>\n",
       "      <th>87</th>\n",
       "    </tr>\n",
       "  </thead>\n",
       "  <tbody>\n",
       "    <tr>\n",
       "      <th>age</th>\n",
       "      <td>22</td>\n",
       "      <td>45</td>\n",
       "      <td>56</td>\n",
       "      <td>40</td>\n",
       "      <td>51</td>\n",
       "    </tr>\n",
       "    <tr>\n",
       "      <th>attrition</th>\n",
       "      <td>0</td>\n",
       "      <td>0</td>\n",
       "      <td>1</td>\n",
       "      <td>1</td>\n",
       "      <td>0</td>\n",
       "    </tr>\n",
       "    <tr>\n",
       "      <th>businesstravel</th>\n",
       "      <td>Travel_Rarely</td>\n",
       "      <td>Non-Travel</td>\n",
       "      <td>Travel_Rarely</td>\n",
       "      <td>Non-Travel</td>\n",
       "      <td>Travel_Rarely</td>\n",
       "    </tr>\n",
       "    <tr>\n",
       "      <th>dailyrate</th>\n",
       "      <td>1230</td>\n",
       "      <td>1238</td>\n",
       "      <td>441</td>\n",
       "      <td>1479</td>\n",
       "      <td>432</td>\n",
       "    </tr>\n",
       "    <tr>\n",
       "      <th>department</th>\n",
       "      <td>Research &amp; Development</td>\n",
       "      <td>Research &amp; Development</td>\n",
       "      <td>Research &amp; Development</td>\n",
       "      <td>Sales</td>\n",
       "      <td>Research &amp; Development</td>\n",
       "    </tr>\n",
       "    <tr>\n",
       "      <th>distancefromhome</th>\n",
       "      <td>1</td>\n",
       "      <td>1</td>\n",
       "      <td>14</td>\n",
       "      <td>24</td>\n",
       "      <td>9</td>\n",
       "    </tr>\n",
       "    <tr>\n",
       "      <th>education</th>\n",
       "      <td>College</td>\n",
       "      <td>Below College</td>\n",
       "      <td>Master</td>\n",
       "      <td>Bachelor</td>\n",
       "      <td>Master</td>\n",
       "    </tr>\n",
       "    <tr>\n",
       "      <th>educationfield</th>\n",
       "      <td>Life Sciences</td>\n",
       "      <td>Life Sciences</td>\n",
       "      <td>Life Sciences</td>\n",
       "      <td>Life Sciences</td>\n",
       "      <td>Life Sciences</td>\n",
       "    </tr>\n",
       "    <tr>\n",
       "      <th>environmentsatisfaction</th>\n",
       "      <td>very high</td>\n",
       "      <td>high</td>\n",
       "      <td>medium</td>\n",
       "      <td>medium</td>\n",
       "      <td>very high</td>\n",
       "    </tr>\n",
       "    <tr>\n",
       "      <th>gender</th>\n",
       "      <td>Male</td>\n",
       "      <td>Male</td>\n",
       "      <td>Female</td>\n",
       "      <td>Female</td>\n",
       "      <td>Male</td>\n",
       "    </tr>\n",
       "    <tr>\n",
       "      <th>hourlyrate</th>\n",
       "      <td>33</td>\n",
       "      <td>74</td>\n",
       "      <td>72</td>\n",
       "      <td>100</td>\n",
       "      <td>96</td>\n",
       "    </tr>\n",
       "    <tr>\n",
       "      <th>jobinvolvement</th>\n",
       "      <td>medium</td>\n",
       "      <td>medium</td>\n",
       "      <td>high</td>\n",
       "      <td>very high</td>\n",
       "      <td>high</td>\n",
       "    </tr>\n",
       "    <tr>\n",
       "      <th>joblevel</th>\n",
       "      <td>2</td>\n",
       "      <td>3</td>\n",
       "      <td>1</td>\n",
       "      <td>4</td>\n",
       "      <td>1</td>\n",
       "    </tr>\n",
       "    <tr>\n",
       "      <th>jobrole</th>\n",
       "      <td>Manufacturing Director</td>\n",
       "      <td>Healthcare Representative</td>\n",
       "      <td>Research Scientist</td>\n",
       "      <td>Sales Executive</td>\n",
       "      <td>Laboratory Technician</td>\n",
       "    </tr>\n",
       "    <tr>\n",
       "      <th>jobsatisfaction</th>\n",
       "      <td>very high</td>\n",
       "      <td>high</td>\n",
       "      <td>medium</td>\n",
       "      <td>medium</td>\n",
       "      <td>very high</td>\n",
       "    </tr>\n",
       "    <tr>\n",
       "      <th>maritalstatus</th>\n",
       "      <td>Married</td>\n",
       "      <td>Married</td>\n",
       "      <td>Married</td>\n",
       "      <td>Single</td>\n",
       "      <td>Married</td>\n",
       "    </tr>\n",
       "    <tr>\n",
       "      <th>monthlyincome</th>\n",
       "      <td>4775</td>\n",
       "      <td>10748</td>\n",
       "      <td>4963</td>\n",
       "      <td>13194</td>\n",
       "      <td>2075</td>\n",
       "    </tr>\n",
       "    <tr>\n",
       "      <th>monthlyrate</th>\n",
       "      <td>19146</td>\n",
       "      <td>3395</td>\n",
       "      <td>4510</td>\n",
       "      <td>17071</td>\n",
       "      <td>18725</td>\n",
       "    </tr>\n",
       "    <tr>\n",
       "      <th>numcompaniesworked</th>\n",
       "      <td>6</td>\n",
       "      <td>3</td>\n",
       "      <td>9</td>\n",
       "      <td>4</td>\n",
       "      <td>3</td>\n",
       "    </tr>\n",
       "    <tr>\n",
       "      <th>overtime</th>\n",
       "      <td>0</td>\n",
       "      <td>0</td>\n",
       "      <td>1</td>\n",
       "      <td>1</td>\n",
       "      <td>0</td>\n",
       "    </tr>\n",
       "    <tr>\n",
       "      <th>percentsalaryhike</th>\n",
       "      <td>22</td>\n",
       "      <td>23</td>\n",
       "      <td>18</td>\n",
       "      <td>16</td>\n",
       "      <td>23</td>\n",
       "    </tr>\n",
       "    <tr>\n",
       "      <th>performancerating</th>\n",
       "      <td>outstanding</td>\n",
       "      <td>outstanding</td>\n",
       "      <td>excellent</td>\n",
       "      <td>excellent</td>\n",
       "      <td>outstanding</td>\n",
       "    </tr>\n",
       "    <tr>\n",
       "      <th>relationshipsatisfaction</th>\n",
       "      <td>low</td>\n",
       "      <td>very high</td>\n",
       "      <td>low</td>\n",
       "      <td>very high</td>\n",
       "      <td>medium</td>\n",
       "    </tr>\n",
       "    <tr>\n",
       "      <th>stockoptionlevel</th>\n",
       "      <td>2</td>\n",
       "      <td>1</td>\n",
       "      <td>3</td>\n",
       "      <td>0</td>\n",
       "      <td>2</td>\n",
       "    </tr>\n",
       "    <tr>\n",
       "      <th>totalworkingyears</th>\n",
       "      <td>4</td>\n",
       "      <td>25</td>\n",
       "      <td>7</td>\n",
       "      <td>22</td>\n",
       "      <td>10</td>\n",
       "    </tr>\n",
       "    <tr>\n",
       "      <th>trainingtimeslastyear</th>\n",
       "      <td>2</td>\n",
       "      <td>3</td>\n",
       "      <td>2</td>\n",
       "      <td>2</td>\n",
       "      <td>4</td>\n",
       "    </tr>\n",
       "    <tr>\n",
       "      <th>worklifebalance</th>\n",
       "      <td>bad</td>\n",
       "      <td>good</td>\n",
       "      <td>better</td>\n",
       "      <td>good</td>\n",
       "      <td>better</td>\n",
       "    </tr>\n",
       "    <tr>\n",
       "      <th>yearsatcompany</th>\n",
       "      <td>2</td>\n",
       "      <td>23</td>\n",
       "      <td>5</td>\n",
       "      <td>1</td>\n",
       "      <td>4</td>\n",
       "    </tr>\n",
       "    <tr>\n",
       "      <th>yearsincurrentrole</th>\n",
       "      <td>2</td>\n",
       "      <td>15</td>\n",
       "      <td>4</td>\n",
       "      <td>0</td>\n",
       "      <td>2</td>\n",
       "    </tr>\n",
       "    <tr>\n",
       "      <th>yearssincelastpromotion</th>\n",
       "      <td>2</td>\n",
       "      <td>14</td>\n",
       "      <td>4</td>\n",
       "      <td>0</td>\n",
       "      <td>0</td>\n",
       "    </tr>\n",
       "    <tr>\n",
       "      <th>yearswithcurrmanager</th>\n",
       "      <td>2</td>\n",
       "      <td>4</td>\n",
       "      <td>3</td>\n",
       "      <td>0</td>\n",
       "      <td>3</td>\n",
       "    </tr>\n",
       "  </tbody>\n",
       "</table>\n",
       "</div>"
      ],
      "text/plain": [
       "                                            630                        1221  \\\n",
       "age                                           22                         45   \n",
       "attrition                                      0                          0   \n",
       "businesstravel                     Travel_Rarely                 Non-Travel   \n",
       "dailyrate                                   1230                       1238   \n",
       "department                Research & Development     Research & Development   \n",
       "distancefromhome                               1                          1   \n",
       "education                                College              Below College   \n",
       "educationfield                     Life Sciences              Life Sciences   \n",
       "environmentsatisfaction                very high                       high   \n",
       "gender                                      Male                       Male   \n",
       "hourlyrate                                    33                         74   \n",
       "jobinvolvement                            medium                     medium   \n",
       "joblevel                                       2                          3   \n",
       "jobrole                   Manufacturing Director  Healthcare Representative   \n",
       "jobsatisfaction                        very high                       high   \n",
       "maritalstatus                            Married                    Married   \n",
       "monthlyincome                               4775                      10748   \n",
       "monthlyrate                                19146                       3395   \n",
       "numcompaniesworked                             6                          3   \n",
       "overtime                                       0                          0   \n",
       "percentsalaryhike                             22                         23   \n",
       "performancerating                    outstanding                outstanding   \n",
       "relationshipsatisfaction                     low                  very high   \n",
       "stockoptionlevel                               2                          1   \n",
       "totalworkingyears                              4                         25   \n",
       "trainingtimeslastyear                          2                          3   \n",
       "worklifebalance                              bad                       good   \n",
       "yearsatcompany                                 2                         23   \n",
       "yearsincurrentrole                             2                         15   \n",
       "yearssincelastpromotion                        2                         14   \n",
       "yearswithcurrmanager                           2                          4   \n",
       "\n",
       "                                            122              706   \\\n",
       "age                                           56               40   \n",
       "attrition                                      1                1   \n",
       "businesstravel                     Travel_Rarely       Non-Travel   \n",
       "dailyrate                                    441             1479   \n",
       "department                Research & Development            Sales   \n",
       "distancefromhome                              14               24   \n",
       "education                                 Master         Bachelor   \n",
       "educationfield                     Life Sciences    Life Sciences   \n",
       "environmentsatisfaction                   medium           medium   \n",
       "gender                                    Female           Female   \n",
       "hourlyrate                                    72              100   \n",
       "jobinvolvement                              high        very high   \n",
       "joblevel                                       1                4   \n",
       "jobrole                       Research Scientist  Sales Executive   \n",
       "jobsatisfaction                           medium           medium   \n",
       "maritalstatus                            Married           Single   \n",
       "monthlyincome                               4963            13194   \n",
       "monthlyrate                                 4510            17071   \n",
       "numcompaniesworked                             9                4   \n",
       "overtime                                       1                1   \n",
       "percentsalaryhike                             18               16   \n",
       "performancerating                      excellent        excellent   \n",
       "relationshipsatisfaction                     low        very high   \n",
       "stockoptionlevel                               3                0   \n",
       "totalworkingyears                              7               22   \n",
       "trainingtimeslastyear                          2                2   \n",
       "worklifebalance                           better             good   \n",
       "yearsatcompany                                 5                1   \n",
       "yearsincurrentrole                             4                0   \n",
       "yearssincelastpromotion                        4                0   \n",
       "yearswithcurrmanager                           3                0   \n",
       "\n",
       "                                            87    \n",
       "age                                           51  \n",
       "attrition                                      0  \n",
       "businesstravel                     Travel_Rarely  \n",
       "dailyrate                                    432  \n",
       "department                Research & Development  \n",
       "distancefromhome                               9  \n",
       "education                                 Master  \n",
       "educationfield                     Life Sciences  \n",
       "environmentsatisfaction                very high  \n",
       "gender                                      Male  \n",
       "hourlyrate                                    96  \n",
       "jobinvolvement                              high  \n",
       "joblevel                                       1  \n",
       "jobrole                    Laboratory Technician  \n",
       "jobsatisfaction                        very high  \n",
       "maritalstatus                            Married  \n",
       "monthlyincome                               2075  \n",
       "monthlyrate                                18725  \n",
       "numcompaniesworked                             3  \n",
       "overtime                                       0  \n",
       "percentsalaryhike                             23  \n",
       "performancerating                    outstanding  \n",
       "relationshipsatisfaction                  medium  \n",
       "stockoptionlevel                               2  \n",
       "totalworkingyears                             10  \n",
       "trainingtimeslastyear                          4  \n",
       "worklifebalance                           better  \n",
       "yearsatcompany                                 4  \n",
       "yearsincurrentrole                             2  \n",
       "yearssincelastpromotion                        0  \n",
       "yearswithcurrmanager                           3  "
      ]
     },
     "execution_count": 10,
     "metadata": {},
     "output_type": "execute_result"
    }
   ],
   "source": [
    "df_full_train.head().T"
   ]
  },
  {
   "cell_type": "markdown",
   "id": "55021ed5",
   "metadata": {},
   "source": [
    "## Explorative Data Analysis\n",
    "\n",
    "### Feature Analysis"
   ]
  },
  {
   "cell_type": "markdown",
   "id": "7c9efeb8",
   "metadata": {},
   "source": [
    "1. Check the distribution of the target variable (majority vs. minority class)"
   ]
  },
  {
   "cell_type": "code",
   "execution_count": 11,
   "id": "55a9b915",
   "metadata": {},
   "outputs": [
    {
     "data": {
      "text/plain": [
       "0    734\n",
       "1    148\n",
       "Name: attrition, dtype: int64"
      ]
     },
     "execution_count": 11,
     "metadata": {},
     "output_type": "execute_result"
    }
   ],
   "source": [
    "y_train.value_counts()"
   ]
  },
  {
   "cell_type": "markdown",
   "id": "f49f7c4c",
   "metadata": {},
   "source": [
    "So in the majority class we find **734** entries and **148** entries in the minority class. This results in the following attrition score:"
   ]
  },
  {
   "cell_type": "code",
   "execution_count": 12,
   "id": "e2a81a1d",
   "metadata": {},
   "outputs": [
    {
     "data": {
      "text/plain": [
       "0.17"
      ]
     },
     "execution_count": 12,
     "metadata": {},
     "output_type": "execute_result"
    }
   ],
   "source": [
    "round(y_train.mean(), 2)"
   ]
  },
  {
   "cell_type": "markdown",
   "id": "a7939398",
   "metadata": {},
   "source": [
    "**17% of all employees** suffered from attrition, which makes the data set imbalanced. We will need to take that into account when tuning and evaluating the results of the ML models!"
   ]
  },
  {
   "cell_type": "markdown",
   "id": "8aa044d3",
   "metadata": {},
   "source": [
    "2. Retrieve the numerical and categorical values"
   ]
  },
  {
   "cell_type": "code",
   "execution_count": 13,
   "id": "f7c0dad7",
   "metadata": {},
   "outputs": [
    {
     "data": {
      "text/plain": [
       "(['age',\n",
       "  'dailyrate',\n",
       "  'distancefromhome',\n",
       "  'hourlyrate',\n",
       "  'joblevel',\n",
       "  'monthlyincome',\n",
       "  'monthlyrate',\n",
       "  'numcompaniesworked',\n",
       "  'percentsalaryhike',\n",
       "  'stockoptionlevel',\n",
       "  'totalworkingyears',\n",
       "  'trainingtimeslastyear',\n",
       "  'yearsatcompany',\n",
       "  'yearsincurrentrole',\n",
       "  'yearssincelastpromotion',\n",
       "  'yearswithcurrmanager'],\n",
       " ['businesstravel',\n",
       "  'department',\n",
       "  'education',\n",
       "  'educationfield',\n",
       "  'environmentsatisfaction',\n",
       "  'gender',\n",
       "  'jobinvolvement',\n",
       "  'jobrole',\n",
       "  'jobsatisfaction',\n",
       "  'maritalstatus',\n",
       "  'overtime',\n",
       "  'performancerating',\n",
       "  'relationshipsatisfaction',\n",
       "  'worklifebalance'])"
      ]
     },
     "execution_count": 13,
     "metadata": {},
     "output_type": "execute_result"
    }
   ],
   "source": [
    "numeric_feats = []\n",
    "categorical_feats = []\n",
    "for col in df_full_train.columns:\n",
    "    if col != 'attrition':\n",
    "        if col == 'overtime':\n",
    "            categorical_feats.append(col) # boolean feature\n",
    "        elif (df_full_train[col].dtype == np.float64 or df_full_train[col].dtype == np.int64):\n",
    "            numeric_feats.append(col)\n",
    "        else:\n",
    "            categorical_feats.append(col)\n",
    "            \n",
    "numeric_feats, categorical_feats"
   ]
  },
  {
   "cell_type": "markdown",
   "id": "76b5a2f2",
   "metadata": {},
   "source": [
    "3. Check the number of distinct values for the categorical features"
   ]
  },
  {
   "cell_type": "code",
   "execution_count": 14,
   "id": "5e7a0599",
   "metadata": {},
   "outputs": [
    {
     "data": {
      "text/plain": [
       "businesstravel              3\n",
       "department                  3\n",
       "education                   5\n",
       "educationfield              6\n",
       "environmentsatisfaction     4\n",
       "gender                      2\n",
       "jobinvolvement              4\n",
       "jobrole                     9\n",
       "jobsatisfaction             4\n",
       "maritalstatus               3\n",
       "overtime                    2\n",
       "performancerating           2\n",
       "relationshipsatisfaction    4\n",
       "worklifebalance             4\n",
       "dtype: int64"
      ]
     },
     "execution_count": 14,
     "metadata": {},
     "output_type": "execute_result"
    }
   ],
   "source": [
    "df_full_train[categorical_feats].nunique()"
   ]
  },
  {
   "cell_type": "markdown",
   "id": "2c561be0",
   "metadata": {},
   "source": [
    "All the categorical features have very few distinct values!"
   ]
  },
  {
   "cell_type": "markdown",
   "id": "c02b6dda",
   "metadata": {},
   "source": [
    "### Feature Importance Analysis\n",
    "\n",
    "#### Mutual Information Score\n",
    "For the categorical features we analyze the mutual info score:"
   ]
  },
  {
   "cell_type": "code",
   "execution_count": 15,
   "id": "addcfada",
   "metadata": {},
   "outputs": [],
   "source": [
    "from sklearn.metrics import mutual_info_score"
   ]
  },
  {
   "cell_type": "code",
   "execution_count": 16,
   "id": "b12ba4c5",
   "metadata": {},
   "outputs": [
    {
     "data": {
      "text/html": [
       "<div>\n",
       "<style scoped>\n",
       "    .dataframe tbody tr th:only-of-type {\n",
       "        vertical-align: middle;\n",
       "    }\n",
       "\n",
       "    .dataframe tbody tr th {\n",
       "        vertical-align: top;\n",
       "    }\n",
       "\n",
       "    .dataframe thead th {\n",
       "        text-align: right;\n",
       "    }\n",
       "</style>\n",
       "<table border=\"1\" class=\"dataframe\">\n",
       "  <thead>\n",
       "    <tr style=\"text-align: right;\">\n",
       "      <th></th>\n",
       "      <th>MI</th>\n",
       "    </tr>\n",
       "  </thead>\n",
       "  <tbody>\n",
       "    <tr>\n",
       "      <th>jobrole</th>\n",
       "      <td>0.026500</td>\n",
       "    </tr>\n",
       "    <tr>\n",
       "      <th>overtime</th>\n",
       "      <td>0.024177</td>\n",
       "    </tr>\n",
       "    <tr>\n",
       "      <th>maritalstatus</th>\n",
       "      <td>0.017052</td>\n",
       "    </tr>\n",
       "    <tr>\n",
       "      <th>environmentsatisfaction</th>\n",
       "      <td>0.009965</td>\n",
       "    </tr>\n",
       "    <tr>\n",
       "      <th>jobinvolvement</th>\n",
       "      <td>0.009961</td>\n",
       "    </tr>\n",
       "    <tr>\n",
       "      <th>jobsatisfaction</th>\n",
       "      <td>0.007847</td>\n",
       "    </tr>\n",
       "    <tr>\n",
       "      <th>businesstravel</th>\n",
       "      <td>0.006381</td>\n",
       "    </tr>\n",
       "    <tr>\n",
       "      <th>educationfield</th>\n",
       "      <td>0.004897</td>\n",
       "    </tr>\n",
       "    <tr>\n",
       "      <th>worklifebalance</th>\n",
       "      <td>0.003935</td>\n",
       "    </tr>\n",
       "    <tr>\n",
       "      <th>department</th>\n",
       "      <td>0.003115</td>\n",
       "    </tr>\n",
       "    <tr>\n",
       "      <th>relationshipsatisfaction</th>\n",
       "      <td>0.002182</td>\n",
       "    </tr>\n",
       "    <tr>\n",
       "      <th>education</th>\n",
       "      <td>0.001017</td>\n",
       "    </tr>\n",
       "    <tr>\n",
       "      <th>gender</th>\n",
       "      <td>0.000214</td>\n",
       "    </tr>\n",
       "    <tr>\n",
       "      <th>performancerating</th>\n",
       "      <td>0.000061</td>\n",
       "    </tr>\n",
       "  </tbody>\n",
       "</table>\n",
       "</div>"
      ],
      "text/plain": [
       "                                MI\n",
       "jobrole                   0.026500\n",
       "overtime                  0.024177\n",
       "maritalstatus             0.017052\n",
       "environmentsatisfaction   0.009965\n",
       "jobinvolvement            0.009961\n",
       "jobsatisfaction           0.007847\n",
       "businesstravel            0.006381\n",
       "educationfield            0.004897\n",
       "worklifebalance           0.003935\n",
       "department                0.003115\n",
       "relationshipsatisfaction  0.002182\n",
       "education                 0.001017\n",
       "gender                    0.000214\n",
       "performancerating         0.000061"
      ]
     },
     "execution_count": 16,
     "metadata": {},
     "output_type": "execute_result"
    }
   ],
   "source": [
    "df_mi = df_full_train[categorical_feats].apply(lambda series : mutual_info_score(series, df_full_train.attrition))\n",
    "df_mi = df_mi.sort_values(ascending=False).to_frame(name='MI')\n",
    "df_mi"
   ]
  },
  {
   "cell_type": "code",
   "execution_count": 17,
   "id": "0a3e83bd",
   "metadata": {},
   "outputs": [
    {
     "data": {
      "image/png": "[encoded data removed]",
      "text/plain": [
       "<Figure size 800x500 with 1 Axes>"
      ]
     },
     "metadata": {
      "needs_background": "light"
     },
     "output_type": "display_data"
    }
   ],
   "source": [
    "def plot_mi_scores(scores):\n",
    "    width = np.arange(len(scores))\n",
    "    ticks = list(scores.index)\n",
    "    plt.barh(width, scores.MI)\n",
    "    plt.yticks(width, ticks)\n",
    "    plt.title(\"Mutual Information Scores\")\n",
    "\n",
    "plt.figure(dpi=100, figsize=(8, 5))\n",
    "plot_mi_scores(df_mi)"
   ]
  },
  {
   "cell_type": "markdown",
   "id": "4eb5e71d",
   "metadata": {},
   "source": [
    "It seems that **job role**, **overtime** and **marital status** are the most important features."
   ]
  },
  {
   "cell_type": "markdown",
   "id": "5ef3a494",
   "metadata": {},
   "source": [
    "#### Correlation Coefficient\n",
    "For the numerical features we analyze the correlation coefficient."
   ]
  },
  {
   "cell_type": "code",
   "execution_count": 18,
   "id": "0dff3516",
   "metadata": {},
   "outputs": [
    {
     "data": {
      "text/html": [
       "<div>\n",
       "<style scoped>\n",
       "    .dataframe tbody tr th:only-of-type {\n",
       "        vertical-align: middle;\n",
       "    }\n",
       "\n",
       "    .dataframe tbody tr th {\n",
       "        vertical-align: top;\n",
       "    }\n",
       "\n",
       "    .dataframe thead th {\n",
       "        text-align: right;\n",
       "    }\n",
       "</style>\n",
       "<table border=\"1\" class=\"dataframe\">\n",
       "  <thead>\n",
       "    <tr style=\"text-align: right;\">\n",
       "      <th></th>\n",
       "      <th>CC</th>\n",
       "    </tr>\n",
       "  </thead>\n",
       "  <tbody>\n",
       "    <tr>\n",
       "      <th>distancefromhome</th>\n",
       "      <td>0.094485</td>\n",
       "    </tr>\n",
       "    <tr>\n",
       "      <th>numcompaniesworked</th>\n",
       "      <td>0.048646</td>\n",
       "    </tr>\n",
       "    <tr>\n",
       "      <th>monthlyrate</th>\n",
       "      <td>0.007300</td>\n",
       "    </tr>\n",
       "    <tr>\n",
       "      <th>yearssincelastpromotion</th>\n",
       "      <td>-0.009060</td>\n",
       "    </tr>\n",
       "    <tr>\n",
       "      <th>hourlyrate</th>\n",
       "      <td>-0.015512</td>\n",
       "    </tr>\n",
       "    <tr>\n",
       "      <th>percentsalaryhike</th>\n",
       "      <td>-0.026373</td>\n",
       "    </tr>\n",
       "    <tr>\n",
       "      <th>dailyrate</th>\n",
       "      <td>-0.042882</td>\n",
       "    </tr>\n",
       "    <tr>\n",
       "      <th>trainingtimeslastyear</th>\n",
       "      <td>-0.047180</td>\n",
       "    </tr>\n",
       "    <tr>\n",
       "      <th>yearsatcompany</th>\n",
       "      <td>-0.113653</td>\n",
       "    </tr>\n",
       "    <tr>\n",
       "      <th>yearsincurrentrole</th>\n",
       "      <td>-0.140518</td>\n",
       "    </tr>\n",
       "    <tr>\n",
       "      <th>yearswithcurrmanager</th>\n",
       "      <td>-0.142292</td>\n",
       "    </tr>\n",
       "    <tr>\n",
       "      <th>monthlyincome</th>\n",
       "      <td>-0.147778</td>\n",
       "    </tr>\n",
       "    <tr>\n",
       "      <th>age</th>\n",
       "      <td>-0.148198</td>\n",
       "    </tr>\n",
       "    <tr>\n",
       "      <th>stockoptionlevel</th>\n",
       "      <td>-0.148473</td>\n",
       "    </tr>\n",
       "    <tr>\n",
       "      <th>joblevel</th>\n",
       "      <td>-0.152473</td>\n",
       "    </tr>\n",
       "    <tr>\n",
       "      <th>totalworkingyears</th>\n",
       "      <td>-0.152732</td>\n",
       "    </tr>\n",
       "  </tbody>\n",
       "</table>\n",
       "</div>"
      ],
      "text/plain": [
       "                               CC\n",
       "distancefromhome         0.094485\n",
       "numcompaniesworked       0.048646\n",
       "monthlyrate              0.007300\n",
       "yearssincelastpromotion -0.009060\n",
       "hourlyrate              -0.015512\n",
       "percentsalaryhike       -0.026373\n",
       "dailyrate               -0.042882\n",
       "trainingtimeslastyear   -0.047180\n",
       "yearsatcompany          -0.113653\n",
       "yearsincurrentrole      -0.140518\n",
       "yearswithcurrmanager    -0.142292\n",
       "monthlyincome           -0.147778\n",
       "age                     -0.148198\n",
       "stockoptionlevel        -0.148473\n",
       "joblevel                -0.152473\n",
       "totalworkingyears       -0.152732"
      ]
     },
     "execution_count": 18,
     "metadata": {},
     "output_type": "execute_result"
    }
   ],
   "source": [
    "df_cc = df_full_train[numeric_feats].corrwith(df_full_train.attrition)\n",
    "df_cc = df_cc.sort_values(ascending=False).to_frame(name='CC')\n",
    "df_cc"
   ]
  },
  {
   "cell_type": "code",
   "execution_count": 19,
   "id": "ebc417c0",
   "metadata": {},
   "outputs": [
    {
     "data": {
      "image/png": "[encoded data removed]",
      "text/plain": [
       "<Figure size 800x500 with 1 Axes>"
      ]
     },
     "metadata": {
      "needs_background": "light"
     },
     "output_type": "display_data"
    }
   ],
   "source": [
    "def plot_correlation_scores(scores):\n",
    "    width = np.arange(len(scores))\n",
    "    ticks = list(scores.index)\n",
    "    plt.barh(width, scores.CC)\n",
    "    plt.yticks(width, ticks)\n",
    "    plt.title(\"Correlation Scores\")\n",
    "\n",
    "plt.figure(dpi=100, figsize=(8, 5))\n",
    "plot_correlation_scores(df_cc)"
   ]
  },
  {
   "cell_type": "markdown",
   "id": "8c62ae82",
   "metadata": {},
   "source": [
    "**distance from home** and the **number of campanis worked** seem to be factors of attrition more than any other features. Features that reduce the attrition risk are the **total working years**, the **job level** and the **stock option level**."
   ]
  },
  {
   "cell_type": "markdown",
   "id": "78ea9356",
   "metadata": {},
   "source": [
    "## Feature Engineering"
   ]
  },
  {
   "cell_type": "markdown",
   "id": "8edb5637",
   "metadata": {},
   "source": [
    "1. We delete the target variable from the data sets."
   ]
  },
  {
   "cell_type": "code",
   "execution_count": 20,
   "id": "8ef81bf3",
   "metadata": {},
   "outputs": [],
   "source": [
    "del df_full_train['attrition']\n",
    "del df_train['attrition']\n",
    "del df_val['attrition']\n",
    "del df_test['attrition']"
   ]
  },
  {
   "cell_type": "markdown",
   "id": "03710aa8",
   "metadata": {},
   "source": [
    "2. We need to encode our categorical features as numeric features."
   ]
  },
  {
   "cell_type": "code",
   "execution_count": 21,
   "id": "56803ee3",
   "metadata": {},
   "outputs": [],
   "source": [
    "from sklearn.feature_extraction import DictVectorizer"
   ]
  },
  {
   "cell_type": "code",
   "execution_count": 22,
   "id": "a7d056b2",
   "metadata": {},
   "outputs": [],
   "source": [
    "dv = DictVectorizer(sparse=False)\n",
    "\n",
    "full_train_dict = df_full_train[categorical_feats + numeric_feats].to_dict(orient='records')\n",
    "dv.fit(full_train_dict)\n",
    "X_full_train = dv.transform(full_train_dict)\n",
    "\n",
    "train_dict = df_train[categorical_feats + numeric_feats].to_dict(orient='records')\n",
    "X_train = dv.transform(train_dict)\n",
    "\n",
    "val_dict = df_val[categorical_feats + numeric_feats].to_dict(orient='records')\n",
    "X_val = dv.transform(val_dict)\n",
    "\n",
    "test_dict = df_test[categorical_feats + numeric_feats].to_dict(orient='records')\n",
    "X_test = dv.transform(test_dict)"
   ]
  },
  {
   "cell_type": "markdown",
   "id": "e9f98623",
   "metadata": {},
   "source": [
    "## Machine Learning Models\n",
    "\n",
    "We will try the following ML models:\n",
    "\n",
    "1. Logistic Regression\n",
    "2. Weighted Logistic Regression\n",
    "3. Decision Trees\n",
    "4. Random Forest\n",
    "5. Gradient Boosting\n",
    "\n",
    "and then select/save/use the model with the best results on the test data set."
   ]
  },
  {
   "cell_type": "markdown",
   "id": "d928ff77",
   "metadata": {},
   "source": [
    "### Logistic Regression\n",
    "First we will try a simple logistic regression.\n",
    "\n",
    "#### Fitting the Model"
   ]
  },
  {
   "cell_type": "code",
   "execution_count": 23,
   "id": "8943dcd5",
   "metadata": {},
   "outputs": [],
   "source": [
    "from sklearn.linear_model import LogisticRegression"
   ]
  },
  {
   "cell_type": "code",
   "execution_count": 24,
   "id": "ef4abbc2",
   "metadata": {},
   "outputs": [
    {
     "data": {
      "text/plain": [
       "LogisticRegression(max_iter=10000, random_state=1234)"
      ]
     },
     "execution_count": 24,
     "metadata": {},
     "output_type": "execute_result"
    }
   ],
   "source": [
    "model_lg = LogisticRegression(solver='lbfgs', max_iter=10000, random_state=1234)\n",
    "model_lg.fit(X_train, y_train)"
   ]
  },
  {
   "cell_type": "markdown",
   "id": "9db4db8a",
   "metadata": {},
   "source": [
    "#### Evaluating the Model\n"
   ]
  },
  {
   "cell_type": "code",
   "execution_count": 25,
   "id": "2f0acaf3",
   "metadata": {},
   "outputs": [],
   "source": [
    "from sklearn.metrics import accuracy_score, roc_auc_score, recall_score, confusion_matrix"
   ]
  },
  {
   "cell_type": "code",
   "execution_count": 26,
   "id": "41e1991f",
   "metadata": {},
   "outputs": [],
   "source": [
    "def validate_results(y_val, y_pred):\n",
    "    print(f'Accuracy Score: {round(accuracy_score(y_val, y_pred), 3)}')\n",
    "    print(f'Area Under ROC Curve: {round(roc_auc_score(y_val, y_pred), 3)}')\n",
    "    print(f'Recall score: {round(recall_score(y_val, y_pred), 3)}')\n",
    "    print(f'Confusion Matrix: \\n{confusion_matrix(y_val, y_pred)}')"
   ]
  },
  {
   "cell_type": "code",
   "execution_count": 27,
   "id": "2d332407",
   "metadata": {
    "scrolled": true
   },
   "outputs": [
    {
     "name": "stdout",
     "output_type": "stream",
     "text": [
      "Accuracy Score: 0.884\n",
      "Area Under ROC Curve: 0.665\n",
      "Recall score: 0.357\n",
      "Confusion Matrix: \n",
      "[[245   7]\n",
      " [ 27  15]]\n"
     ]
    }
   ],
   "source": [
    "y_pred_lg = model_lg.predict(X_val)\n",
    "validate_results(y_val, y_pred_lg)"
   ]
  },
  {
   "cell_type": "markdown",
   "id": "ee4d9733",
   "metadata": {},
   "source": [
    "Although the accuracy score is quite good, the model is not doing a good job in predicting the minority class:\n",
    "**only 15 of 42** cases were **predicted correctly** (AU ROC **0.665**, recall **0.357**)!"
   ]
  },
  {
   "cell_type": "markdown",
   "id": "b4a88e97",
   "metadata": {},
   "source": [
    "### Weighted Logistic Regression\n",
    "To handle the inbalance in the data set, we define weights that represents the distribution of the target variable. Recall that only 17% (148/734) of the data set records have the attrition variable set to 1. We specify therefore the weights as the inverse of the target variable distribution. For majority class (no attrition), will use weight of 148 and for minority class (attrition), will use weight of 734. So the penalty of wrong prediction of minority class would be ca. 5 times more severe than wrong prediction of majority class."
   ]
  },
  {
   "cell_type": "code",
   "execution_count": 28,
   "id": "7c94daf1",
   "metadata": {},
   "outputs": [
    {
     "data": {
      "text/plain": [
       "LogisticRegression(class_weight={0: 148, 1: 734}, max_iter=10000,\n",
       "                   random_state=1234)"
      ]
     },
     "execution_count": 28,
     "metadata": {},
     "output_type": "execute_result"
    }
   ],
   "source": [
    "first_weight = {0: y_train.value_counts()[1], 1: y_train.value_counts()[0]}\n",
    "model_lg = LogisticRegression(solver='lbfgs', max_iter=10000, random_state=1234, class_weight=first_weight)\n",
    "model_lg.fit(X_train, y_train)"
   ]
  },
  {
   "cell_type": "code",
   "execution_count": 29,
   "id": "7dc7b354",
   "metadata": {},
   "outputs": [
    {
     "name": "stdout",
     "output_type": "stream",
     "text": [
      "Accuracy Score: 0.748\n",
      "Area Under ROC Curve: 0.734\n",
      "Recall score: 0.714\n",
      "Confusion Matrix: \n",
      "[[190  62]\n",
      " [ 12  30]]\n"
     ]
    }
   ],
   "source": [
    "y_pred_lg = model_lg.predict(X_val)\n",
    "validate_results(y_val, y_pred_lg)"
   ]
  },
  {
   "cell_type": "markdown",
   "id": "6dff8681",
   "metadata": {},
   "source": [
    "This new model is performing better, the **recall score** has improved from **0.357** to **0.714** and the **AUC ROC** from **0.665** to **0.734** and it is therefore much better in predicting the minority class."
   ]
  },
  {
   "cell_type": "markdown",
   "id": "8646a7ce",
   "metadata": {},
   "source": [
    "#### Tuning the model\n",
    "##### Class Weight\n",
    "Now we check whether another weight might lead to a further improvement."
   ]
  },
  {
   "cell_type": "code",
   "execution_count": 30,
   "id": "eef9164d",
   "metadata": {},
   "outputs": [],
   "source": [
    "from sklearn.model_selection import GridSearchCV, PredefinedSplit\n",
    "import random\n",
    "random.seed(1234)\n",
    "\n",
    "# we generate an index from Cross Validation with 10 possible folds\n",
    "split_index = [-1 if x in df_train.index else random.randint(0, 9) for x in df_full_train.index]\n",
    "pds = PredefinedSplit(test_fold = split_index)"
   ]
  },
  {
   "cell_type": "code",
   "execution_count": 31,
   "id": "525b6588",
   "metadata": {},
   "outputs": [],
   "source": [
    "def create_grid_search_cv(model, hyperparam, scoring=\"roc_auc\"):\n",
    "    grid = GridSearchCV(model, hyperparam, scoring=scoring, cv=pds, n_jobs=-1, refit=True)\n",
    "    grid.fit(X_full_train, y_full_train)\n",
    "    print(f'Best score: {round(grid.best_score_, 3)} with param: {grid.best_params_}')\n",
    "    return(grid)"
   ]
  },
  {
   "cell_type": "code",
   "execution_count": 32,
   "id": "7516a035",
   "metadata": {},
   "outputs": [
    {
     "name": "stdout",
     "output_type": "stream",
     "text": [
      "Best score: 0.821 with param: {'class_weight': {0: 1, 1: 4}}\n"
     ]
    },
    {
     "data": {
      "text/plain": [
       "{0: 1, 1: 4}"
      ]
     },
     "execution_count": 32,
     "metadata": {},
     "output_type": "execute_result"
    }
   ],
   "source": [
    "w_range = [first_weight, {0:1, 1:4}, {0:1, 1:4.5}, {0:1, 1:5}, {0:1, 1:5.5}, {0:1, 1:6}]\n",
    "hyperparam_lg = {\"class_weight\": w_range}\n",
    "\n",
    "model_lg = LogisticRegression(solver='lbfgs', max_iter=10000, random_state=1234)\n",
    "grid_lg = create_grid_search_cv(model_lg, hyperparam_lg)\n",
    "\n",
    "best_weight = grid_lg.best_params_['class_weight']\n",
    "best_weight"
   ]
  },
  {
   "cell_type": "code",
   "execution_count": 33,
   "id": "6784f06e",
   "metadata": {},
   "outputs": [
    {
     "name": "stdout",
     "output_type": "stream",
     "text": [
      "Accuracy Score: 0.827\n",
      "Area Under ROC Curve: 0.78\n",
      "Recall score: 0.714\n",
      "Confusion Matrix: \n",
      "[[213  39]\n",
      " [ 12  30]]\n"
     ]
    }
   ],
   "source": [
    "y_pred_lg = grid_lg.predict(X_val)\n",
    "validate_results(y_val, y_pred_lg)"
   ]
  },
  {
   "cell_type": "markdown",
   "id": "ca674283",
   "metadata": {},
   "source": [
    "This tuned model performs slightly better: The **AUC ROC score** improved from **0.746** to **0.78**. The **recall** did not change (**0.714**)."
   ]
  },
  {
   "cell_type": "markdown",
   "id": "a781c879",
   "metadata": {},
   "source": [
    "##### C\n",
    "Now we try some improve the model by also tuning the parameter **C**:"
   ]
  },
  {
   "cell_type": "code",
   "execution_count": 34,
   "id": "f2c55397",
   "metadata": {},
   "outputs": [
    {
     "name": "stdout",
     "output_type": "stream",
     "text": [
      "Best score: 0.823 with param: {'C': 0.1}\n"
     ]
    },
    {
     "data": {
      "text/plain": [
       "({0: 1, 1: 4}, 0.1)"
      ]
     },
     "execution_count": 34,
     "metadata": {},
     "output_type": "execute_result"
    }
   ],
   "source": [
    "C_range = [0.001, 0.01, 0.1, 0.5, 1, 5, 10]\n",
    "hyperparam_lg = {\"C\": C_range}\n",
    "\n",
    "model_lg = LogisticRegression(solver='lbfgs', max_iter=10000, random_state=1234, class_weight=best_weight)\n",
    "grid_lg = create_grid_search_cv(model_lg, hyperparam_lg)\n",
    "\n",
    "best_C = grid_lg.best_params_['C']\n",
    "best_weight, best_C"
   ]
  },
  {
   "cell_type": "code",
   "execution_count": 35,
   "id": "1815d3e0",
   "metadata": {},
   "outputs": [
    {
     "name": "stdout",
     "output_type": "stream",
     "text": [
      "Accuracy Score: 0.84\n",
      "Area Under ROC Curve: 0.808\n",
      "Recall score: 0.762\n",
      "Confusion Matrix: \n",
      "[[215  37]\n",
      " [ 10  32]]\n"
     ]
    }
   ],
   "source": [
    "y_pred_lg = grid_lg.predict(X_val)\n",
    "validate_results(y_val, y_pred_lg)"
   ]
  },
  {
   "cell_type": "markdown",
   "id": "5e0b1161",
   "metadata": {},
   "source": [
    "As best value for **C** we get **0.1**, the **AUC ROC** improved to **0.808** and the **recall** to **0.762**."
   ]
  },
  {
   "cell_type": "markdown",
   "id": "0bcf0586",
   "metadata": {},
   "source": [
    "#### Final Test on the Test Data Set"
   ]
  },
  {
   "cell_type": "code",
   "execution_count": 36,
   "id": "2ec3f2b9",
   "metadata": {},
   "outputs": [],
   "source": [
    "def predict(df, model):\n",
    "    cat = df[categorical_feats + numeric_feats].to_dict(orient='records')\n",
    "    X = dv.transform(cat)\n",
    "    y_pred = model.predict(X)\n",
    "    return y_pred\n",
    "\n",
    "def train_lg(df, y):\n",
    "    cat = df[categorical_feats + numeric_feats].to_dict(orient='records')\n",
    "    X = dv.transform(cat)\n",
    "    model = LogisticRegression(solver='lbfgs', max_iter=10000, random_state=1234, class_weight=best_weight, C=best_C)\n",
    "    model.fit(X, y)\n",
    "    return model\n",
    "\n",
    "model_lg = train_lg(df_full_train, y_full_train)"
   ]
  },
  {
   "cell_type": "code",
   "execution_count": 37,
   "id": "dad24f9c",
   "metadata": {},
   "outputs": [
    {
     "name": "stdout",
     "output_type": "stream",
     "text": [
      "Accuracy Score: 0.813\n",
      "Area Under ROC Curve: 0.777\n",
      "Recall score: 0.723\n",
      "Confusion Matrix: \n",
      "[[205  42]\n",
      " [ 13  34]]\n"
     ]
    }
   ],
   "source": [
    "y_pred_test = predict(df_test, model_lg)\n",
    "validate_results(y_test, y_pred_test)"
   ]
  },
  {
   "cell_type": "code",
   "execution_count": 38,
   "id": "0085cb77",
   "metadata": {},
   "outputs": [],
   "source": [
    "test_data_results = []\n",
    "test_data_results.append((\"Weighted Logistic Regression\", 0.813, 0.777, 0.723))"
   ]
  },
  {
   "cell_type": "markdown",
   "id": "02315660",
   "metadata": {},
   "source": [
    "### Decision Trees"
   ]
  },
  {
   "cell_type": "code",
   "execution_count": 39,
   "id": "5d145069",
   "metadata": {},
   "outputs": [],
   "source": [
    "from sklearn.tree import DecisionTreeClassifier"
   ]
  },
  {
   "cell_type": "code",
   "execution_count": 40,
   "id": "3cfbc375",
   "metadata": {},
   "outputs": [
    {
     "data": {
      "text/plain": [
       "DecisionTreeClassifier(random_state=1234)"
      ]
     },
     "execution_count": 40,
     "metadata": {},
     "output_type": "execute_result"
    }
   ],
   "source": [
    "model_dt = DecisionTreeClassifier(random_state=1234)\n",
    "model_dt.fit(X_train, y_train)"
   ]
  },
  {
   "cell_type": "code",
   "execution_count": 41,
   "id": "78a07890",
   "metadata": {},
   "outputs": [
    {
     "name": "stdout",
     "output_type": "stream",
     "text": [
      "Accuracy Score: 0.765\n",
      "Area Under ROC Curve: 0.605\n",
      "Recall score: 0.381\n",
      "Confusion Matrix: \n",
      "[[209  43]\n",
      " [ 26  16]]\n"
     ]
    }
   ],
   "source": [
    "y_pred_dt = model_dt.predict(X_val)\n",
    "validate_results(y_val, y_pred_dt)"
   ]
  },
  {
   "cell_type": "markdown",
   "id": "cdeeaeda",
   "metadata": {},
   "source": [
    "#### Tuning the model\n",
    "These results are -as expected- not very good. We will perform the following tuning:\n",
    "* The class weight (due to the imbalance in the data set)\n",
    "* The maximal depth of the tree\n",
    "* The minimum number of samples required to be at a leaf node."
   ]
  },
  {
   "cell_type": "markdown",
   "id": "1ca3b021",
   "metadata": {},
   "source": [
    "##### Class Weight"
   ]
  },
  {
   "cell_type": "code",
   "execution_count": 42,
   "id": "7ddfa3fe",
   "metadata": {},
   "outputs": [
    {
     "name": "stdout",
     "output_type": "stream",
     "text": [
      "Best score: 0.672 with param: {'class_weight': {0: 1, 1: 4}}\n"
     ]
    },
    {
     "data": {
      "text/plain": [
       "{0: 1, 1: 4}"
      ]
     },
     "execution_count": 42,
     "metadata": {},
     "output_type": "execute_result"
    }
   ],
   "source": [
    "w_range = [{0:1, 1:4}, {0:1, 1:4.5}, {0:1, 1:5}, {0:1, 1:5.5}, {0:1, 1:6}]\n",
    "hyperparam_dt = {\"class_weight\": w_range}\n",
    "\n",
    "model_dt = DecisionTreeClassifier(random_state=1234)\n",
    "grid_dt = create_grid_search_cv(model_dt, hyperparam_dt)\n",
    "\n",
    "best_weight = grid_dt.best_params_['class_weight']\n",
    "best_weight"
   ]
  },
  {
   "cell_type": "code",
   "execution_count": 43,
   "id": "d1f3eea9",
   "metadata": {},
   "outputs": [
    {
     "name": "stdout",
     "output_type": "stream",
     "text": [
      "Accuracy Score: 1.0\n",
      "Area Under ROC Curve: 1.0\n",
      "Recall score: 1.0\n",
      "Confusion Matrix: \n",
      "[[252   0]\n",
      " [  0  42]]\n"
     ]
    }
   ],
   "source": [
    "y_pred_dt = grid_dt.predict(X_val)\n",
    "validate_results(y_val, y_pred_dt)"
   ]
  },
  {
   "cell_type": "markdown",
   "id": "6788fc0f",
   "metadata": {},
   "source": [
    "This model ist clearly overfitted, so we tune some of the parameters of decision trees."
   ]
  },
  {
   "cell_type": "markdown",
   "id": "11c00f6d",
   "metadata": {},
   "source": [
    "##### Maximum Depth, Minimum Samples Leaf"
   ]
  },
  {
   "cell_type": "code",
   "execution_count": 44,
   "id": "a05c7776",
   "metadata": {},
   "outputs": [
    {
     "name": "stdout",
     "output_type": "stream",
     "text": [
      "Best score: 0.798 with param: {'max_depth': 6, 'min_samples_leaf': 20}\n"
     ]
    },
    {
     "data": {
      "text/plain": [
       "({0: 1, 1: 4}, 6, 20)"
      ]
     },
     "execution_count": 44,
     "metadata": {},
     "output_type": "execute_result"
    }
   ],
   "source": [
    "depth_range = [1, 2, 3, 4, 5, 6, 10, 15, 50]\n",
    "min_leaf_range = [1, 5, 10, 15, 20, 50, 100, 200]\n",
    "hyperparam_dt = {\"max_depth\": depth_range,\n",
    "                 \"min_samples_leaf\": min_leaf_range}\n",
    "model_dt = DecisionTreeClassifier(random_state=1234, class_weight=best_weight)\n",
    "grid_dt = create_grid_search_cv(model_dt, hyperparam_dt)\n",
    "\n",
    "best_depth = grid_dt.best_params_[\"max_depth\"]\n",
    "best_min_leaf = grid_dt.best_params_[\"min_samples_leaf\"]\n",
    "best_weight, best_depth, best_min_leaf"
   ]
  },
  {
   "cell_type": "code",
   "execution_count": 45,
   "id": "a4911a41",
   "metadata": {},
   "outputs": [
    {
     "name": "stdout",
     "output_type": "stream",
     "text": [
      "Accuracy Score: 0.735\n",
      "Area Under ROC Curve: 0.806\n",
      "Recall score: 0.905\n",
      "Confusion Matrix: \n",
      "[[178  74]\n",
      " [  4  38]]\n"
     ]
    }
   ],
   "source": [
    "y_pred_dt = grid_dt.predict(X_val)\n",
    "validate_results(y_val, y_pred_dt)"
   ]
  },
  {
   "cell_type": "markdown",
   "id": "b7767954",
   "metadata": {},
   "source": [
    "#### Final Test on the Test Data Set"
   ]
  },
  {
   "cell_type": "code",
   "execution_count": 46,
   "id": "ffa89d08",
   "metadata": {},
   "outputs": [],
   "source": [
    "def train_dt(df, y):\n",
    "    cat = df[categorical_feats + numeric_feats].to_dict(orient='records')\n",
    "    X = dv.transform(cat)\n",
    "    model = DecisionTreeClassifier(random_state=1234, class_weight=best_weight, max_depth=best_depth, \n",
    "                                   min_samples_leaf=best_min_leaf)\n",
    "    model.fit(X, y)\n",
    "    return model\n",
    "\n",
    "model_dt = train_dt(df_full_train, y_full_train)"
   ]
  },
  {
   "cell_type": "code",
   "execution_count": 47,
   "id": "d675c2a2",
   "metadata": {},
   "outputs": [
    {
     "name": "stdout",
     "output_type": "stream",
     "text": [
      "Accuracy Score: 0.711\n",
      "Area Under ROC Curve: 0.725\n",
      "Recall score: 0.745\n",
      "Confusion Matrix: \n",
      "[[174  73]\n",
      " [ 12  35]]\n"
     ]
    }
   ],
   "source": [
    "y_pred_test = predict(df_test, model_dt)\n",
    "validate_results(y_test, y_pred_test)"
   ]
  },
  {
   "cell_type": "code",
   "execution_count": 48,
   "id": "0c6e7cb6",
   "metadata": {},
   "outputs": [],
   "source": [
    "test_data_results.append((\"Decision Trees\", 0.711, 0.725, 0.745))"
   ]
  },
  {
   "cell_type": "markdown",
   "id": "ffeccb77",
   "metadata": {},
   "source": [
    "### Random Forest"
   ]
  },
  {
   "cell_type": "code",
   "execution_count": 49,
   "id": "5fd14600",
   "metadata": {},
   "outputs": [],
   "source": [
    "from sklearn.ensemble import RandomForestClassifier"
   ]
  },
  {
   "cell_type": "code",
   "execution_count": 50,
   "id": "20ac017e",
   "metadata": {},
   "outputs": [
    {
     "data": {
      "text/plain": [
       "RandomForestClassifier(random_state=1234)"
      ]
     },
     "execution_count": 50,
     "metadata": {},
     "output_type": "execute_result"
    }
   ],
   "source": [
    "model_rf = RandomForestClassifier(random_state=1234)\n",
    "model_rf.fit(X_train, y_train)"
   ]
  },
  {
   "cell_type": "code",
   "execution_count": 51,
   "id": "7baf8494",
   "metadata": {},
   "outputs": [
    {
     "name": "stdout",
     "output_type": "stream",
     "text": [
      "Accuracy Score: 0.871\n",
      "Area Under ROC Curve: 0.567\n",
      "Recall score: 0.143\n",
      "Confusion Matrix: \n",
      "[[250   2]\n",
      " [ 36   6]]\n"
     ]
    }
   ],
   "source": [
    "y_pred_rf = model_rf.predict(X_val)\n",
    "validate_results(y_val, y_pred_rf)"
   ]
  },
  {
   "cell_type": "markdown",
   "id": "f6fca098",
   "metadata": {},
   "source": [
    "#### Tuning the model"
   ]
  },
  {
   "cell_type": "markdown",
   "id": "2c9db17e",
   "metadata": {},
   "source": [
    "##### Class Weight"
   ]
  },
  {
   "cell_type": "code",
   "execution_count": 52,
   "id": "1bff3bf2",
   "metadata": {},
   "outputs": [
    {
     "name": "stdout",
     "output_type": "stream",
     "text": [
      "Best score: 0.783 with param: {'class_weight': {0: 1, 1: 4.5}}\n"
     ]
    },
    {
     "data": {
      "text/plain": [
       "{0: 1, 1: 4.5}"
      ]
     },
     "execution_count": 52,
     "metadata": {},
     "output_type": "execute_result"
    }
   ],
   "source": [
    "w_range = [{0:1, 1:4}, {0:1, 1:4.5}, {0:1, 1:5}, {0:1, 1:5.5}, {0:1, 1:6}]\n",
    "hyperparam_rf = {\"class_weight\": w_range}\n",
    "model_rf = RandomForestClassifier(random_state=1234)\n",
    "grid_rf = create_grid_search_cv(model_rf, hyperparam_rf)\n",
    "\n",
    "best_weight = grid_rf.best_params_['class_weight']\n",
    "best_weight"
   ]
  },
  {
   "cell_type": "code",
   "execution_count": 53,
   "id": "96cdd3ad",
   "metadata": {},
   "outputs": [
    {
     "name": "stdout",
     "output_type": "stream",
     "text": [
      "Accuracy Score: 1.0\n",
      "Area Under ROC Curve: 1.0\n",
      "Recall score: 1.0\n",
      "Confusion Matrix: \n",
      "[[252   0]\n",
      " [  0  42]]\n"
     ]
    }
   ],
   "source": [
    "y_pred_rf = grid_rf.predict(X_val)\n",
    "validate_results(y_val, y_pred_rf)"
   ]
  },
  {
   "cell_type": "markdown",
   "id": "a262d357",
   "metadata": {},
   "source": [
    "##### Number of Estimators, Maximum Depth, Minimum Samples Leaf"
   ]
  },
  {
   "cell_type": "code",
   "execution_count": 54,
   "id": "6c95606a",
   "metadata": {},
   "outputs": [
    {
     "name": "stdout",
     "output_type": "stream",
     "text": [
      "Best score: 0.813 with param: {'max_depth': 6, 'min_samples_leaf': 5, 'n_estimators': 25}\n"
     ]
    },
    {
     "data": {
      "text/plain": [
       "({0: 1, 1: 4.5}, 25, 6, 5)"
      ]
     },
     "execution_count": 54,
     "metadata": {},
     "output_type": "execute_result"
    }
   ],
   "source": [
    "estimators_range = [10, 25, 50, 100, 150]\n",
    "depth_range = [2, 3, 4, 5, 6, 7, 8, 9, 10, 15, 20]\n",
    "min_leaf_range = [3, 5, 10, 15, 20]\n",
    "hyperparam_rf = {\"n_estimators\": estimators_range,\n",
    "                 \"max_depth\": depth_range,\n",
    "                 \"min_samples_leaf\": min_leaf_range}\n",
    "model_rf = RandomForestClassifier(random_state=1234, class_weight=best_weight)\n",
    "grid_rf = create_grid_search_cv(model_rf, hyperparam_rf)\n",
    "\n",
    "best_n_estimators = grid_rf.best_params_[\"n_estimators\"]\n",
    "best_depth = grid_rf.best_params_[\"max_depth\"]\n",
    "best_min_leaf = grid_rf.best_params_[\"min_samples_leaf\"]\n",
    "best_weight, best_n_estimators, best_depth, best_min_leaf"
   ]
  },
  {
   "cell_type": "code",
   "execution_count": 55,
   "id": "616a4a67",
   "metadata": {},
   "outputs": [
    {
     "name": "stdout",
     "output_type": "stream",
     "text": [
      "Accuracy Score: 0.922\n",
      "Area Under ROC Curve: 0.845\n",
      "Recall score: 0.738\n",
      "Confusion Matrix: \n",
      "[[240  12]\n",
      " [ 11  31]]\n"
     ]
    }
   ],
   "source": [
    "y_pred_rf = grid_rf.predict(X_val)\n",
    "validate_results(y_val, y_pred_rf)"
   ]
  },
  {
   "cell_type": "markdown",
   "id": "d7c8b3fb",
   "metadata": {},
   "source": [
    "#### Final Test on the Test Data Set"
   ]
  },
  {
   "cell_type": "code",
   "execution_count": 56,
   "id": "0c435677",
   "metadata": {},
   "outputs": [],
   "source": [
    "def train_rf(df, y):\n",
    "    cat = df[categorical_feats + numeric_feats].to_dict(orient='records')\n",
    "    X = dv.transform(cat)\n",
    "    model = RandomForestClassifier(random_state=1234, class_weight=best_weight, n_estimators=best_n_estimators,\n",
    "                                   max_depth=best_depth, min_samples_leaf=best_min_leaf)\n",
    "    model.fit(X, y)\n",
    "    return model\n",
    "\n",
    "model_rf = train_rf(df_full_train, y_full_train)"
   ]
  },
  {
   "cell_type": "code",
   "execution_count": 57,
   "id": "a3b8090c",
   "metadata": {},
   "outputs": [
    {
     "name": "stdout",
     "output_type": "stream",
     "text": [
      "Accuracy Score: 0.871\n",
      "Area Under ROC Curve: 0.682\n",
      "Recall score: 0.404\n",
      "Confusion Matrix: \n",
      "[[237  10]\n",
      " [ 28  19]]\n"
     ]
    }
   ],
   "source": [
    "y_pred_test = predict(df_test, model_rf)\n",
    "validate_results(y_test, y_pred_test)"
   ]
  },
  {
   "cell_type": "code",
   "execution_count": 58,
   "id": "f5bf272b",
   "metadata": {},
   "outputs": [],
   "source": [
    "test_data_results.append((\"Random Forest\", 0.871, 0.682, 0.404))"
   ]
  },
  {
   "cell_type": "markdown",
   "id": "da1c0b98",
   "metadata": {},
   "source": [
    "### Gradient Boosting"
   ]
  },
  {
   "cell_type": "code",
   "execution_count": 59,
   "id": "417d75e1",
   "metadata": {},
   "outputs": [],
   "source": [
    "import xgboost as xgb"
   ]
  },
  {
   "cell_type": "code",
   "execution_count": 60,
   "id": "6af3f04b",
   "metadata": {},
   "outputs": [],
   "source": [
    "dfulltrain = xgb.DMatrix(X_full_train, label=y_full_train, feature_names=dv.feature_names_)\n",
    "dtrain = xgb.DMatrix(X_train, label=y_train, feature_names=dv.feature_names_)\n",
    "dval = xgb.DMatrix(X_val, label=y_val, feature_names=dv.feature_names_)\n",
    "dtest = xgb.DMatrix(X_test, label=y_test, feature_names=dv.feature_names_)"
   ]
  },
  {
   "cell_type": "code",
   "execution_count": 61,
   "id": "da1ea822",
   "metadata": {},
   "outputs": [
    {
     "name": "stdout",
     "output_type": "stream",
     "text": [
      "[0]\ttrain-auc:0.85275\tval-auc:0.71088\n",
      "[10]\ttrain-auc:0.99655\tval-auc:0.75709\n",
      "[20]\ttrain-auc:1.00000\tval-auc:0.77749\n",
      "[30]\ttrain-auc:1.00000\tval-auc:0.76030\n",
      "[40]\ttrain-auc:1.00000\tval-auc:0.75671\n",
      "[50]\ttrain-auc:1.00000\tval-auc:0.76757\n",
      "[60]\ttrain-auc:1.00000\tval-auc:0.76937\n",
      "[70]\ttrain-auc:1.00000\tval-auc:0.76776\n",
      "[80]\ttrain-auc:1.00000\tval-auc:0.76436\n",
      "[90]\ttrain-auc:1.00000\tval-auc:0.76521\n",
      "[99]\ttrain-auc:1.00000\tval-auc:0.76379\n"
     ]
    }
   ],
   "source": [
    "watchlist = [(dtrain, 'train'), (dval, 'val')]\n",
    "xgb_params = {\n",
    "    'eta': 0.3,\n",
    "    'max_depth': 6,\n",
    "    'min_child_weight': 1,\n",
    "    'objective': 'binary:logistic',\n",
    "    'eval_metric': 'auc',\n",
    "    'nthread': 8,\n",
    "    'seed': 1234\n",
    "}\n",
    "model_xgb = xgb.train(xgb_params, dtrain, num_boost_round=100, verbose_eval=10, evals=watchlist)"
   ]
  },
  {
   "cell_type": "code",
   "execution_count": 62,
   "id": "89c427b8",
   "metadata": {},
   "outputs": [
    {
     "name": "stdout",
     "output_type": "stream",
     "text": [
      "Accuracy Score: 0.878\n",
      "Area Under ROC Curve: 0.661\n",
      "Recall score: 0.357\n",
      "Confusion Matrix: \n",
      "[[243   9]\n",
      " [ 27  15]]\n"
     ]
    }
   ],
   "source": [
    "y_pred_xgb = model_xgb.predict(dval)\n",
    "validate_results(y_val, y_pred_xgb >= 0.5)"
   ]
  },
  {
   "cell_type": "markdown",
   "id": "ce984939",
   "metadata": {},
   "source": [
    "#### Tuning the model"
   ]
  },
  {
   "cell_type": "markdown",
   "id": "0ae252ff",
   "metadata": {},
   "source": [
    "##### Maximum Depth, Minimum Child Weight"
   ]
  },
  {
   "cell_type": "code",
   "execution_count": 63,
   "id": "d9a22e11",
   "metadata": {},
   "outputs": [],
   "source": [
    "max_depth_range = [3, 4, 6, 10]\n",
    "for depth in max_depth_range:\n",
    "    xgb_params = {\n",
    "        'eta': 0.3,\n",
    "        'max_depth': depth,\n",
    "        'min_child_weight': 1,\n",
    "        'objective': 'binary:logistic',\n",
    "        'eval_metric': 'auc',\n",
    "        'nthread': 8,\n",
    "        'seed': 1234\n",
    "    }\n",
    "    model_xgb = xgb.train(xgb_params, dtrain, num_boost_round=150, verbose_eval=10)"
   ]
  },
  {
   "cell_type": "markdown",
   "id": "92f17589",
   "metadata": {},
   "source": [
    "The best depth seems to be **3**."
   ]
  },
  {
   "cell_type": "code",
   "execution_count": 64,
   "id": "c1d55ca9",
   "metadata": {},
   "outputs": [],
   "source": [
    "best_depth = 3"
   ]
  },
  {
   "cell_type": "code",
   "execution_count": 65,
   "id": "19d683eb",
   "metadata": {},
   "outputs": [
    {
     "name": "stdout",
     "output_type": "stream",
     "text": [
      "[0]\ttrain-auc:0.75771\tval-auc:0.65127\n",
      "[10]\ttrain-auc:0.92562\tval-auc:0.77102\n",
      "[20]\ttrain-auc:0.96266\tval-auc:0.78099\n",
      "[30]\ttrain-auc:0.98148\tval-auc:0.78600\n",
      "[40]\ttrain-auc:0.99086\tval-auc:0.80612\n",
      "[50]\ttrain-auc:0.99528\tval-auc:0.80178\n",
      "[60]\ttrain-auc:0.99854\tval-auc:0.80300\n",
      "[70]\ttrain-auc:0.99965\tval-auc:0.80319\n",
      "[80]\ttrain-auc:0.99994\tval-auc:0.80149\n",
      "[90]\ttrain-auc:1.00000\tval-auc:0.80688\n",
      "[100]\ttrain-auc:1.00000\tval-auc:0.80178\n",
      "[110]\ttrain-auc:1.00000\tval-auc:0.80149\n",
      "[120]\ttrain-auc:1.00000\tval-auc:0.79800\n",
      "[130]\ttrain-auc:1.00000\tval-auc:0.80215\n",
      "[140]\ttrain-auc:1.00000\tval-auc:0.80234\n",
      "[149]\ttrain-auc:1.00000\tval-auc:0.79762\n",
      "[0]\ttrain-auc:0.76631\tval-auc:0.68330\n",
      "[10]\ttrain-auc:0.87729\tval-auc:0.76932\n",
      "[20]\ttrain-auc:0.92465\tval-auc:0.79214\n",
      "[30]\ttrain-auc:0.94598\tval-auc:0.80631\n",
      "[40]\ttrain-auc:0.95954\tval-auc:0.79063\n",
      "[50]\ttrain-auc:0.96749\tval-auc:0.79715\n",
      "[60]\ttrain-auc:0.97569\tval-auc:0.79412\n",
      "[70]\ttrain-auc:0.98180\tval-auc:0.78713\n",
      "[80]\ttrain-auc:0.98648\tval-auc:0.78553\n",
      "[90]\ttrain-auc:0.99009\tval-auc:0.78968\n",
      "[100]\ttrain-auc:0.99172\tval-auc:0.78458\n",
      "[110]\ttrain-auc:0.99414\tval-auc:0.78505\n",
      "[120]\ttrain-auc:0.99606\tval-auc:0.79100\n",
      "[130]\ttrain-auc:0.99696\tval-auc:0.79280\n",
      "[140]\ttrain-auc:0.99782\tval-auc:0.79280\n",
      "[149]\ttrain-auc:0.99808\tval-auc:0.79403\n",
      "[0]\ttrain-auc:0.75601\tval-auc:0.64385\n",
      "[10]\ttrain-auc:0.85602\tval-auc:0.77348\n",
      "[20]\ttrain-auc:0.88907\tval-auc:0.80329\n",
      "[30]\ttrain-auc:0.90326\tval-auc:0.81094\n",
      "[40]\ttrain-auc:0.91780\tval-auc:0.79261\n",
      "[50]\ttrain-auc:0.92508\tval-auc:0.78741\n",
      "[60]\ttrain-auc:0.92750\tval-auc:0.79129\n",
      "[70]\ttrain-auc:0.93289\tval-auc:0.78893\n",
      "[80]\ttrain-auc:0.93861\tval-auc:0.79299\n",
      "[90]\ttrain-auc:0.94211\tval-auc:0.79318\n",
      "[100]\ttrain-auc:0.94648\tval-auc:0.79469\n",
      "[110]\ttrain-auc:0.94952\tval-auc:0.79866\n",
      "[120]\ttrain-auc:0.95223\tval-auc:0.79592\n",
      "[130]\ttrain-auc:0.95365\tval-auc:0.79393\n",
      "[140]\ttrain-auc:0.95537\tval-auc:0.79771\n",
      "[149]\ttrain-auc:0.95725\tval-auc:0.79545\n"
     ]
    }
   ],
   "source": [
    "watchlist = [(dtrain, 'train'), (dval, 'val')]\n",
    "child_weight_range = [1, 10, 20]\n",
    "for w in child_weight_range:\n",
    "    xgb_params = {\n",
    "        'eta': 0.3,\n",
    "        'max_depth': best_depth,\n",
    "        'min_child_weight': w,\n",
    "        'objective': 'binary:logistic',\n",
    "        'eval_metric': 'auc',\n",
    "        'nthread': 8,\n",
    "        'seed': 1234\n",
    "    }\n",
    "    model_xgb = xgb.train(xgb_params, dtrain, num_boost_round=150, verbose_eval=10, evals=watchlist)"
   ]
  },
  {
   "cell_type": "markdown",
   "id": "bd82738a",
   "metadata": {},
   "source": [
    "The best value seems to be **20** after **30** trees (we will generate 100 to be on te safe side)."
   ]
  },
  {
   "cell_type": "code",
   "execution_count": 66,
   "id": "d02d9af4",
   "metadata": {},
   "outputs": [],
   "source": [
    "best_child_weight = 20\n",
    "num_boost_round = 100"
   ]
  },
  {
   "cell_type": "markdown",
   "id": "e46541c4",
   "metadata": {},
   "source": [
    "#### Final Test on the Test Data Set"
   ]
  },
  {
   "cell_type": "code",
   "execution_count": 67,
   "id": "961fa3c6",
   "metadata": {},
   "outputs": [],
   "source": [
    "xgb_params = {\n",
    "    'eta': 0.3,\n",
    "    'max_depth': best_depth,\n",
    "    'min_child_weight': best_child_weight,\n",
    "    'objective': 'binary:logistic',\n",
    "    'eval_metric': 'auc',\n",
    "    'nthread': 8,\n",
    "    'seed': 1234\n",
    "}\n",
    "model_xgb = xgb.train(xgb_params, dfulltrain, num_boost_round=num_boost_round, verbose_eval=10)"
   ]
  },
  {
   "cell_type": "code",
   "execution_count": 68,
   "id": "76afa571",
   "metadata": {},
   "outputs": [
    {
     "name": "stdout",
     "output_type": "stream",
     "text": [
      "Accuracy Score: 0.878\n",
      "Area Under ROC Curve: 0.695\n",
      "Recall score: 0.426\n",
      "Confusion Matrix: \n",
      "[[238   9]\n",
      " [ 27  20]]\n"
     ]
    }
   ],
   "source": [
    "y_pred_test = model_xgb.predict(dtest)\n",
    "validate_results(y_test, y_pred_test >= 0.5)"
   ]
  },
  {
   "cell_type": "code",
   "execution_count": 69,
   "id": "bddec7a2",
   "metadata": {},
   "outputs": [],
   "source": [
    "test_data_results.append((\"Gradient Boosting\", 0.878, 0.695, 0.426))"
   ]
  },
  {
   "cell_type": "markdown",
   "id": "cca9b080",
   "metadata": {},
   "source": [
    "## Model Comparison"
   ]
  },
  {
   "cell_type": "code",
   "execution_count": 70,
   "id": "6a1032c7",
   "metadata": {},
   "outputs": [
    {
     "data": {
      "text/html": [
       "<div>\n",
       "<style scoped>\n",
       "    .dataframe tbody tr th:only-of-type {\n",
       "        vertical-align: middle;\n",
       "    }\n",
       "\n",
       "    .dataframe tbody tr th {\n",
       "        vertical-align: top;\n",
       "    }\n",
       "\n",
       "    .dataframe thead th {\n",
       "        text-align: right;\n",
       "    }\n",
       "</style>\n",
       "<table border=\"1\" class=\"dataframe\">\n",
       "  <thead>\n",
       "    <tr style=\"text-align: right;\">\n",
       "      <th></th>\n",
       "      <th>Method</th>\n",
       "      <th>Accuracy</th>\n",
       "      <th>ROC AUC</th>\n",
       "      <th>Recall</th>\n",
       "    </tr>\n",
       "  </thead>\n",
       "  <tbody>\n",
       "    <tr>\n",
       "      <th>0</th>\n",
       "      <td>Weighted Logistic Regression</td>\n",
       "      <td>0.813</td>\n",
       "      <td>0.777</td>\n",
       "      <td>0.723</td>\n",
       "    </tr>\n",
       "    <tr>\n",
       "      <th>1</th>\n",
       "      <td>Decision Trees</td>\n",
       "      <td>0.711</td>\n",
       "      <td>0.725</td>\n",
       "      <td>0.745</td>\n",
       "    </tr>\n",
       "    <tr>\n",
       "      <th>2</th>\n",
       "      <td>Random Forest</td>\n",
       "      <td>0.871</td>\n",
       "      <td>0.682</td>\n",
       "      <td>0.404</td>\n",
       "    </tr>\n",
       "    <tr>\n",
       "      <th>3</th>\n",
       "      <td>Gradient Boosting</td>\n",
       "      <td>0.878</td>\n",
       "      <td>0.695</td>\n",
       "      <td>0.426</td>\n",
       "    </tr>\n",
       "  </tbody>\n",
       "</table>\n",
       "</div>"
      ],
      "text/plain": [
       "                         Method  Accuracy  ROC AUC  Recall\n",
       "0  Weighted Logistic Regression     0.813    0.777   0.723\n",
       "1                Decision Trees     0.711    0.725   0.745\n",
       "2                 Random Forest     0.871    0.682   0.404\n",
       "3             Gradient Boosting     0.878    0.695   0.426"
      ]
     },
     "execution_count": 70,
     "metadata": {},
     "output_type": "execute_result"
    }
   ],
   "source": [
    "df_results = pd.DataFrame(test_data_results, columns=[\"Method\", \"Accuracy\", \"ROC AUC\", \"Recall\"])\n",
    "df_results"
   ]
  },
  {
   "cell_type": "markdown",
   "id": "d1b92c23",
   "metadata": {},
   "source": [
    "The **Decision Trees** model has not the best accuracy or AUC ROC but we consider it as being the better model since it predicts the attrition cases the best which is the aim of this project."
   ]
  },
  {
   "cell_type": "code",
   "execution_count": 71,
   "id": "3924a6de",
   "metadata": {},
   "outputs": [],
   "source": [
    "model_best = model_dt"
   ]
  },
  {
   "cell_type": "code",
   "execution_count": 72,
   "id": "76e16cbf",
   "metadata": {},
   "outputs": [
    {
     "name": "stdout",
     "output_type": "stream",
     "text": [
      "Accuracy Score: 0.711\n",
      "Area Under ROC Curve: 0.725\n",
      "Recall score: 0.745\n",
      "Confusion Matrix: \n",
      "[[174  73]\n",
      " [ 12  35]]\n"
     ]
    }
   ],
   "source": [
    "y_pred_best = model_best.predict(X_test)\n",
    "validate_results(y_test, y_pred_best)"
   ]
  },
  {
   "cell_type": "markdown",
   "id": "d5a782f8",
   "metadata": {},
   "source": [
    "Save the model and the vectorizer."
   ]
  },
  {
   "cell_type": "code",
   "execution_count": 73,
   "id": "51d9e345",
   "metadata": {},
   "outputs": [],
   "source": [
    "import pickle"
   ]
  },
  {
   "cell_type": "code",
   "execution_count": 74,
   "id": "60974eed",
   "metadata": {},
   "outputs": [],
   "source": [
    "with open('attrition-model.bin', 'wb') as f_out:\n",
    "    pickle.dump((dv, model_best), f_out)"
   ]
  }
 ],
 "metadata": {
  "kernelspec": {
   "display_name": "Python 3 (ipykernel)",
   "language": "python",
   "name": "python3"
  },
  "language_info": {
   "codemirror_mode": {
    "name": "ipython",
    "version": 3
   },
   "file_extension": ".py",
   "mimetype": "text/x-python",
   "name": "python",
   "nbconvert_exporter": "python",
   "pygments_lexer": "ipython3",
   "version": "3.8.12"
  }
 },
 "nbformat": 4,
 "nbformat_minor": 5
}
